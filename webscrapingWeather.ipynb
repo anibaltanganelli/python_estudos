{
  "nbformat": 4,
  "nbformat_minor": 0,
  "metadata": {
    "colab": {
      "provenance": [],
      "authorship_tag": "ABX9TyOO0i9qQL5TFI201cIn5+w1",
      "include_colab_link": true
    },
    "kernelspec": {
      "name": "python3",
      "display_name": "Python 3"
    },
    "language_info": {
      "name": "python"
    }
  },
  "cells": [
    {
      "cell_type": "markdown",
      "metadata": {
        "id": "view-in-github",
        "colab_type": "text"
      },
      "source": [
        "<a href=\"https://colab.research.google.com/github/anibaltanganelli/python_estudos/blob/main/webscrapingWeather.ipynb\" target=\"_parent\"><img src=\"https://colab.research.google.com/assets/colab-badge.svg\" alt=\"Open In Colab\"/></a>"
      ]
    },
    {
      "cell_type": "code",
      "execution_count": 2,
      "metadata": {
        "colab": {
          "base_uri": "https://localhost:8080/"
        },
        "id": "cXFgxfLrwrId",
        "outputId": "09b3e128-5680-4fab-d531-3154a44d2aa3"
      },
      "outputs": [
        {
          "output_type": "stream",
          "name": "stdout",
          "text": [
            "Looking in indexes: https://pypi.org/simple, https://us-python.pkg.dev/colab-wheels/public/simple/\n",
            "Requirement already satisfied: requests in /usr/local/lib/python3.8/dist-packages (2.25.1)\n",
            "Requirement already satisfied: chardet<5,>=3.0.2 in /usr/local/lib/python3.8/dist-packages (from requests) (4.0.0)\n",
            "Requirement already satisfied: urllib3<1.27,>=1.21.1 in /usr/local/lib/python3.8/dist-packages (from requests) (1.24.3)\n",
            "Requirement already satisfied: certifi>=2017.4.17 in /usr/local/lib/python3.8/dist-packages (from requests) (2022.12.7)\n",
            "Requirement already satisfied: idna<3,>=2.5 in /usr/local/lib/python3.8/dist-packages (from requests) (2.10)\n"
          ]
        }
      ],
      "source": [
        "!pip install requests"
      ]
    },
    {
      "cell_type": "code",
      "source": [
        "import requests\n",
        "import math\n",
        "\n",
        "API_KEY = 'c5b95cec7a1cc8d562271790d8cf354c'\n",
        "cidade = str(input('De qual cidade você gostaria de receber informações? '))\n",
        "link = f'https://api.openweathermap.org/data/2.5/weather?q={cidade}&appid={API_KEY}'\n",
        "\n",
        "requisicao = requests.get(link)\n",
        "requisicao_dic = requisicao.json()\n",
        "lon_lat = requisicao_dic['coord']\n",
        "descricao = requisicao_dic['weather'][0]['description']\n",
        "humidade = requisicao_dic['main']['humidity']\n",
        "temperatura = requisicao_dic['main']['temp'] - 273.15\n",
        "sesancao = requisicao_dic['main']['feels_like'] - 273.15\n",
        "\n",
        "\n",
        "print('A temperatura em',cidade.upper(), 'é de {:.2f}ºC\"'.format(temperatura), 'e a sensação térmica é de {:.2f}ºC\"'.format(sesancao))\n",
        "print('O clima está:', descricao)\n",
        "print('A humidade está em', humidade,'%')\n",
        "print('As coordenadas de longitude e latitude de',cidade.upper(), 'são: ',lon_lat)\n",
        "\n",
        "\n",
        "### para adicionar mais informações ver o json ---> print(requisicao.json())\n"
      ],
      "metadata": {
        "colab": {
          "base_uri": "https://localhost:8080/"
        },
        "id": "vXS4I2aS0UC-",
        "outputId": "a0c980cc-ca5f-498c-9c85-e46d8f538964"
      },
      "execution_count": 83,
      "outputs": [
        {
          "output_type": "stream",
          "name": "stdout",
          "text": [
            "De qual cidade você gostaria de receber informações? americana\n",
            "A temperatura em AMERICANA é de 27.61ºC\" e a sensação térmica é de 28.99ºC\"\n",
            "O clima está: light rain\n",
            "A humidade está em 61 %\n",
            "As coordenadas de longitude e latitude de AMERICANA são:  {'lon': -47.3314, 'lat': -22.7392}\n"
          ]
        }
      ]
    }
  ]
}