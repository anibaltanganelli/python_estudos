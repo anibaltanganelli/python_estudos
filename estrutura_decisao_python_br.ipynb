{
  "nbformat": 4,
  "nbformat_minor": 0,
  "metadata": {
    "colab": {
      "provenance": [],
      "authorship_tag": "ABX9TyNH6vgeajl5xn1fMnBtpNyK",
      "include_colab_link": true
    },
    "kernelspec": {
      "name": "python3",
      "display_name": "Python 3"
    },
    "language_info": {
      "name": "python"
    }
  },
  "cells": [
    {
      "cell_type": "markdown",
      "metadata": {
        "id": "view-in-github",
        "colab_type": "text"
      },
      "source": [
        "<a href=\"https://colab.research.google.com/github/anibaltanganelli/python_estudos/blob/main/estrutura_decisao_python_br.ipynb\" target=\"_parent\"><img src=\"https://colab.research.google.com/assets/colab-badge.svg\" alt=\"Open In Colab\"/></a>"
      ]
    },
    {
      "cell_type": "markdown",
      "source": [
        "Faça um Programa que peça dois números e imprima o maior deles."
      ],
      "metadata": {
        "id": "2lssdKTdAd_z"
      }
    },
    {
      "cell_type": "code",
      "execution_count": null,
      "metadata": {
        "id": "8swD5UCzAV3w"
      },
      "outputs": [],
      "source": [
        "print('Informe dois números e eu retornarei qual o maior.')\n",
        "num1 = int(input('Digite um número: '))\n",
        "num2 = int(input('Digite outro número: '))\n",
        "\n",
        "if num1 > num2:\n",
        "  print('O maior número é o', num1)\n",
        "else:\n",
        "  print('O maior número é o', num2)"
      ]
    },
    {
      "cell_type": "markdown",
      "source": [
        "Faça um Programa que peça um valor e mostre na tela se o valor é positivo ou negativo."
      ],
      "metadata": {
        "id": "ar1iANlKBU0d"
      }
    },
    {
      "cell_type": "code",
      "source": [
        "print('Informe um valor e eu direi se é positivo ou negativo.')\n",
        "\n",
        "num = int(input('Informe o valor: '))\n",
        "neutro = 0\n",
        "\n",
        "if num > 0:\n",
        "  print('O valor é positivo.')\n",
        "else:\n",
        "  print('O valor é negativo.')"
      ],
      "metadata": {
        "id": "DWVshm3dBWo_"
      },
      "execution_count": null,
      "outputs": []
    },
    {
      "cell_type": "markdown",
      "source": [
        "Faça um Programa que verifique se uma letra digitada é \"F\" ou \"M\". Conforme a letra escrever: F - Feminino, M - Masculino, Sexo Inválido.\n"
      ],
      "metadata": {
        "id": "ljF0FiyxC2bE"
      }
    },
    {
      "cell_type": "code",
      "source": [
        "sexo = str(input('Seu seco é F ou M?'))\n",
        "\n",
        "if sexo == 'F':\n",
        "  print('Feminino')\n",
        "elif sexo == 'M':\n",
        "  print('Masculino')\n",
        "else:\n",
        "  print('Sexo inválido')"
      ],
      "metadata": {
        "id": "r790dnqTC4_m"
      },
      "execution_count": null,
      "outputs": []
    },
    {
      "cell_type": "markdown",
      "source": [
        "Faça um Programa que verifique se uma letra digitada é vogal ou consoante.\n"
      ],
      "metadata": {
        "id": "PuPEsr-xD7bC"
      }
    },
    {
      "cell_type": "code",
      "source": [
        "print('Consoante ou vogal? \\n')\n",
        "\n",
        "letra = str(input('Informe uma letra:''\\n')).upper()\n",
        "vogais = ['A', 'E', 'I', 'O', 'U']\n",
        "\n",
        "if letra in vogais:\n",
        "  print('A letra', letra, 'é uma vogal.')\n",
        "\n",
        "else:\n",
        "  print('A letra {} é uma consoante.'.format(letra))"
      ],
      "metadata": {
        "id": "TYdev1AeD-CR"
      },
      "execution_count": null,
      "outputs": []
    },
    {
      "cell_type": "markdown",
      "source": [
        "Faça um programa para a leitura de duas notas parciais de um aluno. O programa deve calcular a média alcançada por aluno e apresentar:\n",
        "A mensagem \"Aprovado\", se a média alcançada for maior ou igual a sete;\n",
        "A mensagem \"Reprovado\", se a média for menor do que sete;\n",
        "A mensagem \"Aprovado com Distinção\", se a média for igual a dez."
      ],
      "metadata": {
        "id": "06ozE664yLBj"
      }
    },
    {
      "cell_type": "code",
      "source": [
        "print('Calculadora de média')\n",
        "\n",
        "nome_aluno = str(input('\\nQual o nome do aluno? ')) #apenas praticando#\n",
        "nota1 = float(input('\\nInforme a primeira nota: '))\n",
        "nota2 = float(input('Informe a segunda nota: '))\n",
        "\n",
        "notas = (nota1, nota2)\n",
        "\n",
        "n = len(notas) ##apenas para praticar o len##\n",
        "\n",
        "media = (nota1 + nota2)/n\n",
        "\n",
        "\n",
        "if media >= 7 and media < 10:\n",
        "  print('\\nA média do aluno', nome_aluno,'é',media, 'e ele(a) foi aprovado')\n",
        "elif media < 7:\n",
        "  print('\\nA média do aluno', nome_aluno,'é',media, 'e ele(a) foi reprovado.')\n",
        "elif media == 10:\n",
        "  print('\\nA média do aluno', nome_aluno,'é',media, 'e ele(a) foi aprovado(a) com distinção.')\n",
        "\n",
        "\n",
        "\n"
      ],
      "metadata": {
        "id": "p-cEqmeHyQ7B"
      },
      "execution_count": null,
      "outputs": []
    },
    {
      "cell_type": "markdown",
      "source": [
        "Faça um Programa que leia três números e mostre o maior deles.\n",
        "\n",
        "\n",
        "\n"
      ],
      "metadata": {
        "id": "OcGthbOC3t-k"
      }
    },
    {
      "cell_type": "code",
      "source": [
        "print('Qual o maior dos três números inteiros?\\n ')\n",
        "num1 = int(input('Informe o primeiro número: '))\n",
        "num2 = int(input('Informe o primeiro número: '))\n",
        "num3 = int(input('Informe o primeiro número: '))\n",
        "\n",
        "x = num1\n",
        "\n",
        "if num2 > num1:\n",
        "  x = num2\n",
        "if num3 > num2:\n",
        "  x = num3\n",
        "\n",
        "print('O maior número é o',x)\n",
        "\n"
      ],
      "metadata": {
        "id": "2vFa1FGf3uwI"
      },
      "execution_count": null,
      "outputs": []
    },
    {
      "cell_type": "markdown",
      "source": [
        "Faça um Programa que leia três números e mostre o maior e o menor deles.\n",
        "\n",
        "\n",
        "\n"
      ],
      "metadata": {
        "id": "UwCRv5IM6AdT"
      }
    },
    {
      "cell_type": "code",
      "source": [
        "print('Qual o maior e o menor dos três números inteiros?\\n ')\n",
        "\n",
        "num1 = int(input('Informe o primeiro número: '))\n",
        "num2 = int(input('Informe o primeiro número: '))\n",
        "num3 = int(input('Informe o primeiro número: '))\n",
        "\n",
        "maior = num1\n",
        "menor = num1\n",
        "\n",
        "if num2 < num1 and num2 < num3:\n",
        "  menor = num2\n",
        "\n",
        "if num3 < num2 and num3 < num1:\n",
        "  menor = num3\n",
        "\n",
        "if num2 > num1 and num2 > num3:\n",
        "  maior = num2\n",
        "\n",
        "if num3 > num2 and num3 > num1:\n",
        "  maior = num3\n",
        "\n",
        "print('O maior número é o', maior,'e o menor é o', menor)\n",
        "\n",
        "\n"
      ],
      "metadata": {
        "id": "zNLgANqy6Blb"
      },
      "execution_count": null,
      "outputs": []
    },
    {
      "cell_type": "markdown",
      "source": [
        "Faça um programa que pergunte o preço de três produtos e informe qual produto você deve comprar, sabendo que a decisão é sempre pelo mais barato."
      ],
      "metadata": {
        "id": "m7TlWZ3oA3hS"
      }
    },
    {
      "cell_type": "code",
      "source": [
        "print('Qual a melhor compra? ')\n",
        "\n",
        "prod1 = str(input('Qual o produto 1? '))\n",
        "pr_prod1 = float(input('Qual o preço do produto 1? '))\n",
        "prod2 = str(input('Qual o produto2 ? '))\n",
        "pr_prod2 = float(input('Qual o preço do produto 2? '))\n",
        "prod3 = str(input('Qual o produto 3? '))\n",
        "pr_prod3 = float(input('Qual o preço do produto 3? '))\n",
        "\n",
        "melhor_compra = prod1\n",
        "\n",
        "if pr_prod2 < pr_prod3 and pr_prod2 < pr_prod1:\n",
        "  melhor_compra = prod2\n",
        "if pr_prod3 < pr_prod2 and pr_prod3 < pr_prod1:\n",
        "  melhor_compra = prod3\n",
        "\n",
        "\n",
        "print('A melhor compra é a do', melhor_compra)\n"
      ],
      "metadata": {
        "id": "JlG1yHZDA4lr"
      },
      "execution_count": null,
      "outputs": []
    },
    {
      "cell_type": "markdown",
      "source": [
        "\n",
        "Faça um Programa que leia três números e mostre-os em ordem decrescente.\n",
        "\n",
        "\n",
        "\n",
        "\n",
        "\n",
        "\n",
        "\n"
      ],
      "metadata": {
        "id": "zVIYeMC2UpMp"
      }
    },
    {
      "cell_type": "code",
      "source": [
        "print('Insira três números inteiros e os mostrarei em ordem decrescente.')\n",
        "\n",
        "numero1 = int(input('Digite o primeiro numero: '))\n",
        "numero2 = int(input('Digite o segundo numero: '))\n",
        "numero3 = int(input('Digite o terceiro numero: '))\n",
        "\n",
        "num = []\n",
        "num.append(numero1)\n",
        "num.append(numero2)\n",
        "num.append(numero3)\n",
        "\n",
        "num.sort()\n",
        "num.reverse()\n",
        "\n",
        "print(num)\n"
      ],
      "metadata": {
        "id": "K7YXY4KIUtle"
      },
      "execution_count": null,
      "outputs": []
    },
    {
      "cell_type": "markdown",
      "source": [
        "Faça um Programa que pergunte em que turno você estuda. Peça para digitar M-matutino ou V-Vespertino ou N- Noturno. Imprima a mensagem \"Bom Dia!\", \"Boa Tarde!\" ou \"Boa Noite!\" ou \"Valor Inválido!\", conforme o caso."
      ],
      "metadata": {
        "id": "QvyKVV-T23Lw"
      }
    },
    {
      "cell_type": "code",
      "source": [
        "turno = str(input('Olá! Em que turno você estuda? Para matutino digite M, para vespertino V e para notutno digite a letra N: ')).upper()\n",
        "\n",
        "\n",
        "if turno == 'M':\n",
        "  print('Bom dia!')\n",
        "\n",
        "elif turno == 'V':\n",
        "  print('Boa tarde!')\n",
        "\n",
        "elif turno == 'N':\n",
        "  print('Boa noite!')\n",
        "\n",
        "else:\n",
        "  print('Valor inválido!')\n"
      ],
      "metadata": {
        "id": "-nGO73Bd3gTX"
      },
      "execution_count": null,
      "outputs": []
    },
    {
      "cell_type": "code",
      "source": [
        "As Organizações Tabajara resolveram dar um aumento de salário aos seus colaboradores e lhe contrataram para desenvolver o programa que calculará os reajustes.\n",
        "Faça um programa que recebe o salário de um colaborador e o reajuste segundo o seguinte critério, baseado no salário atual:\n",
        "salários até R$ 280,00 (incluindo) : aumento de 20%\n",
        "salários entre R$ 280,00 e R$ 700,00 : aumento de 15%\n",
        "salários entre R$ 700,00 e R$ 1500,00 : aumento de 10%\n",
        "salários de R$ 1500,00 em diante : aumento de 5% Após o aumento ser realizado, informe na tela:\n",
        "o salário antes do reajuste;\n",
        "o percentual de aumento aplicado;\n",
        "o valor do aumento;\n",
        "o novo salário, após o aumento."
      ],
      "metadata": {
        "id": "phrAgIKt6DFU"
      },
      "execution_count": null,
      "outputs": []
    },
    {
      "cell_type": "code",
      "source": [
        "print('Cálculo de reajuste salaria.')\n",
        "salario = float(input('Informe o salário: '))\n",
        "\n",
        "if salario == 280:\n",
        "  salario1 = salario * 1.2\n",
        "  print('O salário inicial era de R$', salario, '\\nhouve um reajuste de 20%. \\nO salario atual é de R$', salario1)\n",
        "elif salario >= 281 and salario <= 700:\n",
        "  salario2 = salario * 1.15\n",
        "  print('O salário inicial era de R$', salario, '\\nhouve um reajuste de 15%. \\nO salario atual é de R$', salario2)\n",
        "elif salario >= 701 and salario <= 1500:\n",
        "  salario3 = salario * 1.1\n",
        "  print('O salário inicial era de R$', salario, '\\nhouve um reajuste de 10%. \\nO salario atual é de R$', salario3)\n",
        "elif salario >= 1501:\n",
        "  salario4 =salario * 1.05\n",
        "  print('O salário inicial era de R$', salario, '\\n houve um reajuste de 5%, \\no salario atual é de R$', salario4)"
      ],
      "metadata": {
        "id": "NsreQB3z6E4T"
      },
      "execution_count": null,
      "outputs": []
    }
  ]
}