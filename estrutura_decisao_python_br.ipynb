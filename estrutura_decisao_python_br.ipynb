{
  "nbformat": 4,
  "nbformat_minor": 0,
  "metadata": {
    "colab": {
      "provenance": [],
      "authorship_tag": "ABX9TyN3meZF01lpmlsGmKbOW+fV",
      "include_colab_link": true
    },
    "kernelspec": {
      "name": "python3",
      "display_name": "Python 3"
    },
    "language_info": {
      "name": "python"
    }
  },
  "cells": [
    {
      "cell_type": "markdown",
      "metadata": {
        "id": "view-in-github",
        "colab_type": "text"
      },
      "source": [
        "<a href=\"https://colab.research.google.com/github/anibaltanganelli/python_estudos/blob/main/estrutura_decisao_python_br.ipynb\" target=\"_parent\"><img src=\"https://colab.research.google.com/assets/colab-badge.svg\" alt=\"Open In Colab\"/></a>"
      ]
    },
    {
      "cell_type": "markdown",
      "source": [
        "Faça um Programa que peça dois números e imprima o maior deles."
      ],
      "metadata": {
        "id": "2lssdKTdAd_z"
      }
    },
    {
      "cell_type": "code",
      "execution_count": null,
      "metadata": {
        "id": "8swD5UCzAV3w"
      },
      "outputs": [],
      "source": [
        "print('Informe dois números e eu retornarei qual o maior.')\n",
        "num1 = int(input('Digite um número: '))\n",
        "num2 = int(input('Digite outro número: '))\n",
        "\n",
        "if num1 > num2:\n",
        "  print('O maior número é o', num1)\n",
        "else:\n",
        "  print('O maior número é o', num2)"
      ]
    },
    {
      "cell_type": "markdown",
      "source": [
        "Faça um Programa que peça um valor e mostre na tela se o valor é positivo ou negativo."
      ],
      "metadata": {
        "id": "ar1iANlKBU0d"
      }
    },
    {
      "cell_type": "code",
      "source": [
        "print('Informe um valor e eu direi se é positivo ou negativo.')\n",
        "\n",
        "num = int(input('Informe o valor: '))\n",
        "neutro = 0\n",
        "\n",
        "if num > 0:\n",
        "  print('O valor é positivo.')\n",
        "else:\n",
        "  print('O valor é negativo.')"
      ],
      "metadata": {
        "id": "DWVshm3dBWo_"
      },
      "execution_count": null,
      "outputs": []
    },
    {
      "cell_type": "markdown",
      "source": [
        "Faça um Programa que verifique se uma letra digitada é \"F\" ou \"M\". Conforme a letra escrever: F - Feminino, M - Masculino, Sexo Inválido.\n"
      ],
      "metadata": {
        "id": "ljF0FiyxC2bE"
      }
    },
    {
      "cell_type": "code",
      "source": [
        "sexo = str(input('Seu seco é F ou M?'))\n",
        "\n",
        "if sexo == 'F':\n",
        "  print('Feminino')\n",
        "elif sexo == 'M':\n",
        "  print('Masculino')\n",
        "else:\n",
        "  print('Sexo inválido')"
      ],
      "metadata": {
        "id": "r790dnqTC4_m"
      },
      "execution_count": null,
      "outputs": []
    },
    {
      "cell_type": "markdown",
      "source": [
        "Faça um Programa que verifique se uma letra digitada é vogal ou consoante.\n"
      ],
      "metadata": {
        "id": "PuPEsr-xD7bC"
      }
    },
    {
      "cell_type": "code",
      "source": [
        "print('Consoante ou vogal? \\n')\n",
        "\n",
        "letra = str(input('Informe uma letra:''\\n')).upper()\n",
        "vogais = ['A', 'E', 'I', 'O', 'U']\n",
        "\n",
        "if letra in vogais:\n",
        "  print('A letra', letra, 'é uma vogal.')\n",
        "\n",
        "else:\n",
        "  print('A letra {} é uma consoante.'.format(letra))"
      ],
      "metadata": {
        "id": "TYdev1AeD-CR"
      },
      "execution_count": null,
      "outputs": []
    },
    {
      "cell_type": "markdown",
      "source": [
        "Faça um programa para a leitura de duas notas parciais de um aluno. O programa deve calcular a média alcançada por aluno e apresentar:\n",
        "A mensagem \"Aprovado\", se a média alcançada for maior ou igual a sete;\n",
        "A mensagem \"Reprovado\", se a média for menor do que sete;\n",
        "A mensagem \"Aprovado com Distinção\", se a média for igual a dez."
      ],
      "metadata": {
        "id": "06ozE664yLBj"
      }
    },
    {
      "cell_type": "code",
      "source": [
        "print('Calculadora de média')\n",
        "\n",
        "nome_aluno = str(input('\\nQual o nome do aluno? ')) #apenas praticando#\n",
        "nota1 = float(input('\\nInforme a primeira nota: '))\n",
        "nota2 = float(input('Informe a segunda nota: '))\n",
        "\n",
        "notas = (nota1, nota2)\n",
        "\n",
        "n = len(notas) ##apenas para praticar o len##\n",
        "\n",
        "media = (nota1 + nota2)/n\n",
        "\n",
        "\n",
        "if media >= 7 and media < 10:\n",
        "  print('\\nA média do aluno', nome_aluno,'é',media, 'e ele(a) foi aprovado')\n",
        "elif media < 7:\n",
        "  print('\\nA média do aluno', nome_aluno,'é',media, 'e ele(a) foi reprovado.')\n",
        "elif media == 10:\n",
        "  print('\\nA média do aluno', nome_aluno,'é',media, 'e ele(a) foi aprovado(a) com distinção.')\n",
        "\n",
        "\n",
        "\n"
      ],
      "metadata": {
        "id": "p-cEqmeHyQ7B"
      },
      "execution_count": null,
      "outputs": []
    },
    {
      "cell_type": "markdown",
      "source": [
        "Faça um Programa que leia três números e mostre o maior deles.\n",
        "\n",
        "\n",
        "\n"
      ],
      "metadata": {
        "id": "OcGthbOC3t-k"
      }
    },
    {
      "cell_type": "code",
      "source": [
        "print('Qual o maior dos três números inteiros?\\n ')\n",
        "num1 = int(input('Informe o primeiro número: '))\n",
        "num2 = int(input('Informe o primeiro número: '))\n",
        "num3 = int(input('Informe o primeiro número: '))\n",
        "\n",
        "x = num1\n",
        "\n",
        "if num2 > num1:\n",
        "  x = num2\n",
        "if num3 > num2:\n",
        "  x = num3\n",
        "\n",
        "print('O maior número é o',x)\n",
        "\n"
      ],
      "metadata": {
        "id": "2vFa1FGf3uwI"
      },
      "execution_count": null,
      "outputs": []
    },
    {
      "cell_type": "markdown",
      "source": [
        "Faça um Programa que leia três números e mostre o maior e o menor deles.\n",
        "\n",
        "\n",
        "\n"
      ],
      "metadata": {
        "id": "UwCRv5IM6AdT"
      }
    },
    {
      "cell_type": "code",
      "source": [
        "print('Qual o maior e o menor dos três números inteiros?\\n ')\n",
        "\n",
        "num1 = int(input('Informe o primeiro número: '))\n",
        "num2 = int(input('Informe o primeiro número: '))\n",
        "num3 = int(input('Informe o primeiro número: '))\n",
        "\n",
        "maior = num1\n",
        "menor = num1\n",
        "\n",
        "if num2 < num1 and num2 < num3:\n",
        "  menor = num2\n",
        "\n",
        "if num3 < num2 and num3 < num1:\n",
        "  menor = num3\n",
        "\n",
        "if num2 > num1 and num2 > num3:\n",
        "  maior = num2\n",
        "\n",
        "if num3 > num2 and num3 > num1:\n",
        "  maior = num3\n",
        "\n",
        "print('O maior número é o', maior,'e o menor é o', menor)\n",
        "\n",
        "\n"
      ],
      "metadata": {
        "id": "zNLgANqy6Blb"
      },
      "execution_count": null,
      "outputs": []
    },
    {
      "cell_type": "markdown",
      "source": [
        "Faça um programa que pergunte o preço de três produtos e informe qual produto você deve comprar, sabendo que a decisão é sempre pelo mais barato."
      ],
      "metadata": {
        "id": "m7TlWZ3oA3hS"
      }
    },
    {
      "cell_type": "code",
      "source": [
        "print('Qual a melhor compra? ')\n",
        "\n",
        "prod1 = str(input('Qual o produto 1? '))\n",
        "pr_prod1 = float(input('Qual o preço do produto 1? '))\n",
        "prod2 = str(input('Qual o produto2 ? '))\n",
        "pr_prod2 = float(input('Qual o preço do produto 2? '))\n",
        "prod3 = str(input('Qual o produto 3? '))\n",
        "pr_prod3 = float(input('Qual o preço do produto 3? '))\n",
        "\n",
        "melhor_compra = prod1\n",
        "\n",
        "if pr_prod2 < pr_prod3 and pr_prod2 < pr_prod1:\n",
        "  melhor_compra = prod2\n",
        "if pr_prod3 < pr_prod2 and pr_prod3 < pr_prod1:\n",
        "  melhor_compra = prod3\n",
        "\n",
        "\n",
        "print('A melhor compra é a do', melhor_compra)\n"
      ],
      "metadata": {
        "id": "JlG1yHZDA4lr"
      },
      "execution_count": null,
      "outputs": []
    },
    {
      "cell_type": "markdown",
      "source": [
        "\n",
        "Faça um Programa que leia três números e mostre-os em ordem decrescente.\n",
        "\n",
        "\n",
        "\n",
        "\n",
        "\n",
        "\n",
        "\n"
      ],
      "metadata": {
        "id": "zVIYeMC2UpMp"
      }
    },
    {
      "cell_type": "code",
      "source": [
        "print('Insira três números inteiros e os mostrarei em ordem decrescente.')\n",
        "\n",
        "numero1 = int(input('Digite o primeiro numero: '))\n",
        "numero2 = int(input('Digite o segundo numero: '))\n",
        "numero3 = int(input('Digite o terceiro numero: '))\n",
        "\n",
        "num = []\n",
        "num.append(numero1)\n",
        "num.append(numero2)\n",
        "num.append(numero3)\n",
        "\n",
        "num.sort()\n",
        "num.reverse()\n",
        "\n",
        "print(num)\n"
      ],
      "metadata": {
        "id": "K7YXY4KIUtle"
      },
      "execution_count": null,
      "outputs": []
    },
    {
      "cell_type": "markdown",
      "source": [
        "Faça um Programa que pergunte em que turno você estuda. Peça para digitar M-matutino ou V-Vespertino ou N- Noturno. Imprima a mensagem \"Bom Dia!\", \"Boa Tarde!\" ou \"Boa Noite!\" ou \"Valor Inválido!\", conforme o caso."
      ],
      "metadata": {
        "id": "QvyKVV-T23Lw"
      }
    },
    {
      "cell_type": "code",
      "source": [
        "turno = str(input('Olá! Em que turno você estuda? Para matutino digite M, para vespertino V e para notutno digite a letra N: ')).upper()\n",
        "\n",
        "\n",
        "if turno == 'M':\n",
        "  print('Bom dia!')\n",
        "\n",
        "elif turno == 'V':\n",
        "  print('Boa tarde!')\n",
        "\n",
        "elif turno == 'N':\n",
        "  print('Boa noite!')\n",
        "\n",
        "else:\n",
        "  print('Valor inválido!')\n"
      ],
      "metadata": {
        "id": "-nGO73Bd3gTX"
      },
      "execution_count": null,
      "outputs": []
    },
    {
      "cell_type": "code",
      "source": [
        "As Organizações Tabajara resolveram dar um aumento de salário aos seus colaboradores e lhe contrataram para desenvolver o programa que calculará os reajustes.\n",
        "Faça um programa que recebe o salário de um colaborador e o reajuste segundo o seguinte critério, baseado no salário atual:\n",
        "salários até R$ 280,00 (incluindo) : aumento de 20%\n",
        "salários entre R$ 280,00 e R$ 700,00 : aumento de 15%\n",
        "salários entre R$ 700,00 e R$ 1500,00 : aumento de 10%\n",
        "salários de R$ 1500,00 em diante : aumento de 5% Após o aumento ser realizado, informe na tela:\n",
        "o salário antes do reajuste;\n",
        "o percentual de aumento aplicado;\n",
        "o valor do aumento;\n",
        "o novo salário, após o aumento."
      ],
      "metadata": {
        "id": "phrAgIKt6DFU"
      },
      "execution_count": null,
      "outputs": []
    },
    {
      "cell_type": "code",
      "source": [
        "print('Cálculo de reajuste salaria.')\n",
        "salario = float(input('Informe o salário: '))\n",
        "\n",
        "if salario == 280:\n",
        "  salario1 = salario * 1.2\n",
        "  print('O salário inicial era de R$', salario, '\\nhouve um reajuste de 20%. \\nO salario atual é de R$', salario1)\n",
        "elif salario >= 281 and salario <= 700:\n",
        "  salario2 = salario * 1.15\n",
        "  print('O salário inicial era de R$', salario, '\\nhouve um reajuste de 15%. \\nO salario atual é de R$', salario2)\n",
        "elif salario >= 701 and salario <= 1500:\n",
        "  salario3 = salario * 1.1\n",
        "  print('O salário inicial era de R$', salario, '\\nhouve um reajuste de 10%. \\nO salario atual é de R$', salario3)\n",
        "elif salario >= 1501:\n",
        "  salario4 =salario * 1.05\n",
        "  print('O salário inicial era de R$', salario, '\\n houve um reajuste de 5%, \\no salario atual é de R$', salario4)"
      ],
      "metadata": {
        "id": "NsreQB3z6E4T"
      },
      "execution_count": null,
      "outputs": []
    },
    {
      "cell_type": "code",
      "source": [
        "Faça um programa para o cálculo de uma folha de pagamento, sabendo que os descontos são do Imposto de Renda, que depende do salário bruto (conforme tabela abaixo) \n",
        "3% para o Sindicato e que o FGTS corresponde a 11% do Salário Bruto, mas não é descontado (é a empresa que deposita). \n",
        "O Salário Líquido corresponde ao Salário Bruto menos os descontos. O programa deverá pedir ao usuário o valor da sua hora e a quantidade de horas trabalhadas no mês.\n",
        "Desconto do IR:\n",
        "Salário Bruto até 900 (inclusive) - isento\n",
        "Salário Bruto até 1500 (inclusive) - desconto de 5%\n",
        "Salário Bruto até 2500 (inclusive) - desconto de 10%\n",
        "Salário Bruto acima de 2500 - desconto de 20% Imprima na tela as informações, dispostas conforme o exemplo abaixo. No exemplo o valor da hora é 5 e a quantidade de hora é 220.\n",
        "\n",
        "Salário Bruto: (5 * 220)        : R$ 1100,00\n",
        "        (-) IR (5%)                     : R$   55,00  \n",
        "        (-) INSS ( 10%)                 : R$  110,00\n",
        "        FGTS (11%)                      : R$  121,00\n",
        "        Total de descontos              : R$  165,00\n",
        "        Salário Liquido                 : R$  935,00"
      ],
      "metadata": {
        "id": "LIndBYu7_Oum"
      },
      "execution_count": null,
      "outputs": []
    },
    {
      "cell_type": "code",
      "source": [
        "print('---------- Cálculo de folha de pagamento ----------')\n",
        "numero_horas = int(input('Quantas horas você trabalhou? '))\n",
        "salario_hora = float(input('Qual o valor de seu salário por hora? '))\n",
        "\n",
        "salario_bruto = numero_horas * salario_hora\n",
        "\n",
        "if salario_bruto <= 900:\n",
        "  IR1 = 0\n",
        "  INSS1 = salario_bruto * 0.1\n",
        "  FGTS1 = salario_bruto * 0.11\n",
        "  descontos1 = IR1 + INSS1\n",
        "  salario_liquido1 = salario_bruto - descontos1\n",
        "  print('Salário Bruto: (', numero_horas,'*', salario_hora,')      :R$', salario_bruto)\n",
        "  print('(-) IR (isento)                   : R$',IR1)\n",
        "  print('(-) INSS (10%)                    : R$',INSS1)\n",
        "  print('FGTS (11%)                        : R$',FGTS1)\n",
        "  print('TOtal de descontos                : R$',descontos1)\n",
        "  print('Salário Líquido                   : R$',salario_liquido1)\n",
        "\n",
        "\n",
        "elif salario_bruto > 900 and salario_bruto <= 1500:\n",
        "  IR2 = salario_bruto * 0.05\n",
        "  INSS2 = salario_bruto * 0.1\n",
        "  FGTS2 = salario_bruto * 0.11\n",
        "  descontos2 = IR2 + INSS2\n",
        "  salario_liquido2 = salario_bruto - descontos2\n",
        "  print('Salário Bruto: (', numero_horas,'*', salario_hora,')      :R$', salario_bruto)\n",
        "  print('(-) IR (5%)                       : R$',IR2)\n",
        "  print('(-) INSS (10%)                    : R$',INSS2)\n",
        "  print('FGTS (11%)                        : R$',FGTS2)\n",
        "  print('Total de descontos                : R$',descontos2)\n",
        "  print('Salário Líquido                   : R$',salario_liquido2)\n",
        "\n",
        "elif salario_bruto > 1500 and salario_bruto <= 2500:\n",
        "  IR3 = salario_bruto * 0.1\n",
        "  INSS3 = salario_bruto * 0.1\n",
        "  FGTS3 = salario_bruto * 0.11\n",
        "  descontos3 = IR3 + INSS3\n",
        "  salario_liquido3 = salario_bruto - descontos3\n",
        "  print('Salário Bruto: (', numero_horas,'*', salario_hora,')      :R$', salario_bruto)\n",
        "  print('(-) IR (10%)                      : R$',IR3)\n",
        "  print('(-) INSS (10%)                    : R$',INSS3)\n",
        "  print('FGTS (11%)                        : R$',FGTS3)\n",
        "  print('Total de descontos                : R$',descontos3)\n",
        "  print('Salário Líquido                   : R$',salario_liquido3)\n",
        "\n",
        "elif salario_bruto > 2500:\n",
        "  IR4 = salario_bruto * 0.2\n",
        "  INSS4 = salario_bruto * 0.1\n",
        "  FGTS4 = salario_bruto * 0.11\n",
        "  descontos4 = IR4 + INSS4\n",
        "  salario_liquido4 = salario_bruto - descontos4\n",
        "  print('Salário Bruto: (', numero_horas,'*', salario_hora,')      :R$', salario_bruto)\n",
        "  print('(-) IR (20%)                      : R$',IR4)\n",
        "  print('(-) INSS (10%)                    : R$',INSS4)\n",
        "  print('FGTS (11%)                        : R$',FGTS4)\n",
        "  print('Total de descontos                : R$',descontos4)\n",
        "  print('Salário Líquido                   : R$',salario_liquido4)\n",
        "\n",
        "\n"
      ],
      "metadata": {
        "id": "Qv59a3TE_RuI"
      },
      "execution_count": null,
      "outputs": []
    },
    {
      "cell_type": "markdown",
      "source": [
        "Faça um Programa que leia um número e exiba o dia correspondente da semana. (1-Domingo, 2- Segunda, etc.), se digitar outro valor deve aparecer valor inválido."
      ],
      "metadata": {
        "id": "TS6eTeu2IlA6"
      }
    },
    {
      "cell_type": "code",
      "source": [
        "dia = int(input(\"Qual o dia? \"))\n",
        "\n",
        "if dia == 1:\n",
        "  print('Domingo')\n",
        "elif dia == 2:\n",
        "  print('Segunda')\n",
        "elif dia == 3:\n",
        "  print('Terça')\n",
        "elif dia == 4:\n",
        "  print('Quarta')\n",
        "elif dia == 5:\n",
        "  print('Quinta')\n",
        "elif dia == 6:\n",
        "  print('Sexta')\n",
        "elif dia == 7:\n",
        "  print('Sábado')\n",
        "\n",
        "\n"
      ],
      "metadata": {
        "id": "_vGFbeIpImXV"
      },
      "execution_count": null,
      "outputs": []
    },
    {
      "cell_type": "code",
      "source": [
        "Faça um programa que lê as duas notas parciais obtidas por um aluno numa disciplina ao longo de um semestre, e calcule a sua média. A atribuição de conceitos obedece à tabela abaixo:\n",
        "  Média de Aproveitamento  Conceito\n",
        "  Entre 9.0 e 10.0        A\n",
        "  Entre 7.5 e 9.0         B\n",
        "  Entre 6.0 e 7.5         C\n",
        "  Entre 4.0 e 6.0         D\n",
        "  Entre 4.0 e zero        E\n",
        "O algoritmo deve mostrar na tela as notas, a média, o conceito correspondente e a mensagem “APROVADO” se o conceito for A, B ou C ou “REPROVADO” se o conceito for D ou E."
      ],
      "metadata": {
        "id": "NKJN5WUkQcxK"
      },
      "execution_count": null,
      "outputs": []
    },
    {
      "cell_type": "code",
      "source": [
        "print('Cálculo de média')\n",
        "nome = str(input('Qual o nome do aluno? '))\n",
        "nota1 = float(input('Qual a primeira nota: '))\n",
        "nota2 = float(input('Qual a segunda nota? '))\n",
        "\n",
        "media = (nota1+nota2)/2\n",
        "\n",
        "if media <= 4:\n",
        "  print('\\nNota 1:               ',nota1,\n",
        "        '\\nNota 2:               ',nota2,\n",
        "        '\\nMédia:                ',media,\n",
        "        '\\nConceito:              E'\n",
        "        '\\nO aluno,',nome, 'foi:   Reprovado ')\n",
        "if media > 4 and media < 6:\n",
        "  print('\\nNota 1:               ',nota1,\n",
        "        '\\nNota 2:               ',nota2,\n",
        "        '\\nMédia:                ',media,\n",
        "        '\\nConceito:              D'\n",
        "        '\\nO aluno,',nome, 'foi:   Reprovado ')\n",
        "if media >= 6 and media <= 7.5:\n",
        "  print('\\nNota 1:               ',nota1,\n",
        "        '\\nNota 2:               ',nota2,\n",
        "        '\\nMédia:                ',media,\n",
        "        '\\nConceito:              C'\n",
        "        '\\nO aluno,',nome, 'foi:   Aprovado ')\n",
        "if media > 7.5 and media < 9:\n",
        "  print('\\nNota 1:               ',nota1,\n",
        "        '\\nNota 2:               ',nota2,\n",
        "        '\\nMédia:                ',media,\n",
        "        '\\nConceito:              B'\n",
        "        '\\nO aluno,',nome, 'foi:   Aprovado ')\n",
        "if media >= 9 and media <= 10:\n",
        "  print('\\nNota 1:               ',nota1,\n",
        "        '\\nNota 2:               ',nota2,\n",
        "        '\\nMédia:                ',media,\n",
        "        '\\nConceito:              A'\n",
        "        '\\nO aluno,',nome, 'foi:   Aprovado ')\n"
      ],
      "metadata": {
        "id": "cgYn-nr4RIbN"
      },
      "execution_count": null,
      "outputs": []
    },
    {
      "cell_type": "code",
      "source": [
        "Faça um Programa que peça os 3 lados de um triângulo. O programa deverá informar se os valores podem ser um triângulo. Indique, caso os lados formem um triângulo, se o mesmo é: equilátero, isósceles ou escaleno.\n",
        "Dicas:\n",
        "Três lados formam um triângulo quando a soma de quaisquer dois lados for maior que o terceiro;\n",
        "Triângulo Equilátero: três lados iguais;\n",
        "Triângulo Isósceles: quaisquer dois lados iguais;\n",
        "Triângulo Escaleno: três lados diferentes;"
      ],
      "metadata": {
        "id": "RK24HB2BVXSE"
      },
      "execution_count": null,
      "outputs": []
    },
    {
      "cell_type": "code",
      "source": [
        "print('Informe os lados do triêngulo para saber se é Equilátero, Isósceles ou Escaleno.')\n",
        "\n",
        "lado_1 = float(input('Informe o primeiro lado: '))\n",
        "lado_2 = float(input('Informe o segundo lado: '))\n",
        "lado_3 = float(input('Informe o terceiro lado: '))\n",
        "\n",
        "if lado_1 == lado_2 and lado_2 == lado_3:\n",
        "  print('É um triângulo é Equilátero.')\n",
        "\n",
        "if lado_1 == lado_2 and lado_1 != lado_3:\n",
        "  print('É um triângulo Isósceles.')\n",
        "if lado_1 == lado_3 and lado_2 != lado_3:\n",
        "   print('É um triângulo Isósceles.')\n",
        "if lado_2 == lado_3 and lado_2 != lado_1:\n",
        "   print('É um triângulo Isósceles.')\n",
        "\n",
        "if lado_1 != lado_2 and lado_1 != lado_3 and lado_2 != lado_3:\n",
        "  print('É um triânculo Escaleno.')"
      ],
      "metadata": {
        "id": "EENOBJcHFNAU"
      },
      "execution_count": null,
      "outputs": []
    },
    {
      "cell_type": "code",
      "source": [
        "Faça um programa que calcule as raízes de uma equação do segundo grau, na forma ax2 + bx + c. O programa deverá pedir os valores de a, b e c e fazer as consistências,\n",
        " informando ao usuário nas seguintes situações:\n",
        "Se o usuário informar o valor de A igual a zero, a equação não é do segundo grau e o programa não deve fazer pedir os demais valores, sendo encerrado;\n",
        "Se o delta calculado for negativo, a equação não possui raizes reais. Informe ao usuário e encerre o programa;\n",
        "Se o delta calculado for igual a zero a equação possui apenas uma raiz real; informe-a ao usuário;\n",
        "Se o delta for positivo, a equação possui duas raiz reais; informe-as ao usuário;"
      ],
      "metadata": {
        "id": "jhvJ3KSuIZpP"
      },
      "execution_count": null,
      "outputs": []
    },
    {
      "cell_type": "code",
      "source": [
        "import math\n",
        "\n",
        "a = float(input('Informe o valor de a:'))\n",
        "if a == 0:\n",
        "  print('A não pode ser zero')\n",
        "else:\n",
        "\n",
        "  b = float(input('Informe o valor de b:'))\n",
        "  c = float(input('Informe o valor de c:'))\n",
        "\n",
        "delta = (b**2) - (4 * a * c)\n",
        "\n",
        "if delta < 0:\n",
        "  print('A equação não possui valores reais.')\n",
        "else:\n",
        "  x = -b + math.sqrt(delta)/2*a\n",
        "  x1 = -b -math.sqrt(delta)/2*a\n",
        "\n",
        "if delta == 0:\n",
        "  print('O delta possui apenas uma raiz real', x1)\n",
        "\n",
        "if delta > 0:\n",
        "  print('Delta possui duas raízes reais x1:{:.2f} e x2:{:.2f}'.format(x, x1))\n"
      ],
      "metadata": {
        "id": "gmwPUpNrIa6h",
        "colab": {
          "base_uri": "https://localhost:8080/"
        },
        "outputId": "7eebb6f1-0d24-4b96-b5fd-3570d9d8204c"
      },
      "execution_count": 15,
      "outputs": [
        {
          "output_type": "stream",
          "name": "stdout",
          "text": [
            "Informe o valor de a:12\n",
            "Informe o valor de b:80\n",
            "Informe o valor de c:15\n",
            "Delta possui duas raízes reais x1:372.19 e x2:-532.19\n"
          ]
        }
      ]
    }
  ]
}