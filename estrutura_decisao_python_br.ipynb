{
  "nbformat": 4,
  "nbformat_minor": 0,
  "metadata": {
    "colab": {
      "provenance": [],
      "authorship_tag": "ABX9TyM3CN4AgUgOmzHoW2XfPVZ3",
      "include_colab_link": true
    },
    "kernelspec": {
      "name": "python3",
      "display_name": "Python 3"
    },
    "language_info": {
      "name": "python"
    }
  },
  "cells": [
    {
      "cell_type": "markdown",
      "metadata": {
        "id": "view-in-github",
        "colab_type": "text"
      },
      "source": [
        "<a href=\"https://colab.research.google.com/github/anibaltanganelli/python_estudos/blob/main/estrutura_decisao_python_br.ipynb\" target=\"_parent\"><img src=\"https://colab.research.google.com/assets/colab-badge.svg\" alt=\"Open In Colab\"/></a>"
      ]
    },
    {
      "cell_type": "markdown",
      "source": [
        "Faça um Programa que peça dois números e imprima o maior deles."
      ],
      "metadata": {
        "id": "2lssdKTdAd_z"
      }
    },
    {
      "cell_type": "code",
      "execution_count": null,
      "metadata": {
        "id": "8swD5UCzAV3w"
      },
      "outputs": [],
      "source": [
        "print('Informe dois números e eu retornarei qual o maior.')\n",
        "num1 = int(input('Digite um número: '))\n",
        "num2 = int(input('Digite outro número: '))\n",
        "\n",
        "if num1 > num2:\n",
        "  print('O maior número é o', num1)\n",
        "else:\n",
        "  print('O maior número é o', num2)"
      ]
    },
    {
      "cell_type": "markdown",
      "source": [
        "Faça um Programa que peça um valor e mostre na tela se o valor é positivo ou negativo."
      ],
      "metadata": {
        "id": "ar1iANlKBU0d"
      }
    },
    {
      "cell_type": "code",
      "source": [
        "print('Informe um valor e eu direi se é positivo ou negativo.')\n",
        "\n",
        "num = int(input('Informe o valor: '))\n",
        "neutro = 0\n",
        "\n",
        "if num > 0:\n",
        "  print('O valor é positivo.')\n",
        "else:\n",
        "  print('O valor é negativo.')"
      ],
      "metadata": {
        "id": "DWVshm3dBWo_"
      },
      "execution_count": null,
      "outputs": []
    },
    {
      "cell_type": "markdown",
      "source": [
        "Faça um Programa que verifique se uma letra digitada é \"F\" ou \"M\". Conforme a letra escrever: F - Feminino, M - Masculino, Sexo Inválido.\n"
      ],
      "metadata": {
        "id": "ljF0FiyxC2bE"
      }
    },
    {
      "cell_type": "code",
      "source": [
        "sexo = str(input('Seu seco é F ou M?'))\n",
        "\n",
        "if sexo == 'F':\n",
        "  print('Feminino')\n",
        "elif sexo == 'M':\n",
        "  print('Masculino')\n",
        "else:\n",
        "  print('Sexo inválido')"
      ],
      "metadata": {
        "id": "r790dnqTC4_m"
      },
      "execution_count": null,
      "outputs": []
    },
    {
      "cell_type": "markdown",
      "source": [
        "Faça um Programa que verifique se uma letra digitada é vogal ou consoante.\n"
      ],
      "metadata": {
        "id": "PuPEsr-xD7bC"
      }
    },
    {
      "cell_type": "code",
      "source": [
        "print('Consoante ou vogal? \\n')\n",
        "\n",
        "letra = str(input('Informe uma letra:''\\n'))\n",
        "vogais = ['a', 'e', 'i', 'o', 'u']\n",
        "\n",
        "if letra in vogais:\n",
        "  print('A letra', letra, 'é uma vogal.')\n",
        "\n",
        "else:\n",
        "  print('A letra {} é uma consoante.'.format(letra))"
      ],
      "metadata": {
        "id": "TYdev1AeD-CR"
      },
      "execution_count": null,
      "outputs": []
    },
    {
      "cell_type": "markdown",
      "source": [
        "Faça um programa para a leitura de duas notas parciais de um aluno. O programa deve calcular a média alcançada por aluno e apresentar:\n",
        "A mensagem \"Aprovado\", se a média alcançada for maior ou igual a sete;\n",
        "A mensagem \"Reprovado\", se a média for menor do que sete;\n",
        "A mensagem \"Aprovado com Distinção\", se a média for igual a dez."
      ],
      "metadata": {
        "id": "06ozE664yLBj"
      }
    },
    {
      "cell_type": "code",
      "source": [
        "print('Calculadora de média')\n",
        "\n",
        "nome_aluno = str(input('\\nQual o nome do aluno? ')) #apenas praticando#\n",
        "nota1 = float(input('\\nInforme a primeira nota: '))\n",
        "nota2 = float(input('Informe a segunda nota: '))\n",
        "\n",
        "notas = (nota1, nota2)\n",
        "\n",
        "n = len(notas) ##apenas para praticar o len##\n",
        "\n",
        "media = (nota1 + nota2)/n\n",
        "\n",
        "\n",
        "if media >= 7 and media < 10:\n",
        "  print('\\nA média do aluno', nome_aluno,'é',media, 'e ele(a) foi aprovado')\n",
        "elif media < 7:\n",
        "  print('\\nA média do aluno', nome_aluno,'é',media, 'e ele(a) foi reprovado.')\n",
        "elif media == 10:\n",
        "  print('\\nA média do aluno', nome_aluno,'é',media, 'e ele(a) foi aprovado(a) com distinção.')\n",
        "\n",
        "\n",
        "\n"
      ],
      "metadata": {
        "id": "p-cEqmeHyQ7B"
      },
      "execution_count": null,
      "outputs": []
    },
    {
      "cell_type": "markdown",
      "source": [
        "Faça um Programa que leia três números e mostre o maior deles.\n",
        "\n",
        "\n",
        "\n"
      ],
      "metadata": {
        "id": "OcGthbOC3t-k"
      }
    },
    {
      "cell_type": "code",
      "source": [
        "print('Qual o maior dos três números inteiros?\\n ')\n",
        "num1 = int(input('Informe o primeiro número: '))\n",
        "num2 = int(input('Informe o primeiro número: '))\n",
        "num3 = int(input('Informe o primeiro número: '))\n",
        "\n",
        "x = num1\n",
        "\n",
        "if num2 > num1:\n",
        "  x = num2\n",
        "if num3 > num2:\n",
        "  x = num3\n",
        "\n",
        "print('O maior número é o',x)\n",
        "\n"
      ],
      "metadata": {
        "id": "2vFa1FGf3uwI"
      },
      "execution_count": null,
      "outputs": []
    },
    {
      "cell_type": "markdown",
      "source": [
        "Faça um Programa que leia três números e mostre o maior e o menor deles.\n",
        "\n",
        "\n",
        "\n"
      ],
      "metadata": {
        "id": "UwCRv5IM6AdT"
      }
    },
    {
      "cell_type": "code",
      "source": [
        "print('Qual o maior e o menor dos três números inteiros?\\n ')\n",
        "\n",
        "num1 = int(input('Informe o primeiro número: '))\n",
        "num2 = int(input('Informe o primeiro número: '))\n",
        "num3 = int(input('Informe o primeiro número: '))\n",
        "\n",
        "maior = num1\n",
        "menor = num1\n",
        "\n",
        "if num2 < num1 and num2 < num3:\n",
        "  menor = num2\n",
        "\n",
        "if num3 < num2 and num3 < num1:\n",
        "  menor = num3\n",
        "\n",
        "if num2 > num1 and num2 > num3:\n",
        "  maior = num2\n",
        "\n",
        "if num3 > num2 and num3 > num1:\n",
        "  maior = num3\n",
        "\n",
        "print('O maior número é o', maior,'e o menor é o', menor)\n",
        "\n",
        "\n"
      ],
      "metadata": {
        "id": "zNLgANqy6Blb"
      },
      "execution_count": null,
      "outputs": []
    },
    {
      "cell_type": "markdown",
      "source": [
        "Faça um programa que pergunte o preço de três produtos e informe qual produto você deve comprar, sabendo que a decisão é sempre pelo mais barato."
      ],
      "metadata": {
        "id": "m7TlWZ3oA3hS"
      }
    },
    {
      "cell_type": "code",
      "source": [
        "print('Qual a melhor compra? ')\n",
        "\n",
        "prod1 = str(input('Qual o produto 1? '))\n",
        "pr_prod1 = float(input('Qual o preço do produto 1? '))\n",
        "prod2 = str(input('Qual o produto2 ? '))\n",
        "pr_prod2 = float(input('Qual o preço do produto 2? '))\n",
        "prod3 = str(input('Qual o produto 3? '))\n",
        "pr_prod3 = float(input('Qual o preço do produto 3? '))\n",
        "\n",
        "melhor_compra = prod1\n",
        "\n",
        "if pr_prod2 < pr_prod3 and pr_prod2 < pr_prod1:\n",
        "  melhor_compra = prod2\n",
        "if pr_prod3 < pr_prod2 and pr_prod3 < pr_prod1:\n",
        "  melhor_compra = prod3\n",
        "\n",
        "\n",
        "print('A melhor compra é a do', melhor_compra)\n"
      ],
      "metadata": {
        "id": "JlG1yHZDA4lr"
      },
      "execution_count": null,
      "outputs": []
    },
    {
      "cell_type": "markdown",
      "source": [
        "\n",
        "Faça um Programa que leia três números e mostre-os em ordem decrescente.\n",
        "\n",
        "\n",
        "\n",
        "\n",
        "\n",
        "\n",
        "\n"
      ],
      "metadata": {
        "id": "zVIYeMC2UpMp"
      }
    },
    {
      "cell_type": "code",
      "source": [
        "for i in range(0,3):\n",
        "\n",
        "  numeros = int(input('Digite os numeros: '))\n",
        "\n",
        "num = []\n",
        "\n",
        "numeros.append(num)\n",
        "\n",
        "print(num)\n"
      ],
      "metadata": {
        "colab": {
          "base_uri": "https://localhost:8080/",
          "height": 287
        },
        "id": "K7YXY4KIUtle",
        "outputId": "23874439-77f5-4f1f-a3ec-9a52b4340952"
      },
      "execution_count": 115,
      "outputs": [
        {
          "name": "stdout",
          "output_type": "stream",
          "text": [
            "Digite os numeros: 1\n",
            "Digite os numeros: 2\n",
            "Digite os numeros: 3\n"
          ]
        },
        {
          "output_type": "error",
          "ename": "AttributeError",
          "evalue": "ignored",
          "traceback": [
            "\u001b[0;31m---------------------------------------------------------------------------\u001b[0m",
            "\u001b[0;31mAttributeError\u001b[0m                            Traceback (most recent call last)",
            "\u001b[0;32m<ipython-input-115-1bbe07220962>\u001b[0m in \u001b[0;36m<module>\u001b[0;34m\u001b[0m\n\u001b[1;32m      5\u001b[0m \u001b[0mnum\u001b[0m \u001b[0;34m=\u001b[0m \u001b[0;34m[\u001b[0m\u001b[0;34m]\u001b[0m\u001b[0;34m\u001b[0m\u001b[0;34m\u001b[0m\u001b[0m\n\u001b[1;32m      6\u001b[0m \u001b[0;34m\u001b[0m\u001b[0m\n\u001b[0;32m----> 7\u001b[0;31m \u001b[0mnumeros\u001b[0m\u001b[0;34m.\u001b[0m\u001b[0mappend\u001b[0m\u001b[0;34m(\u001b[0m\u001b[0mnum\u001b[0m\u001b[0;34m)\u001b[0m\u001b[0;34m\u001b[0m\u001b[0;34m\u001b[0m\u001b[0m\n\u001b[0m\u001b[1;32m      8\u001b[0m \u001b[0;34m\u001b[0m\u001b[0m\n\u001b[1;32m      9\u001b[0m \u001b[0mprint\u001b[0m\u001b[0;34m(\u001b[0m\u001b[0mnum\u001b[0m\u001b[0;34m)\u001b[0m\u001b[0;34m\u001b[0m\u001b[0;34m\u001b[0m\u001b[0m\n",
            "\u001b[0;31mAttributeError\u001b[0m: 'int' object has no attribute 'append'"
          ]
        }
      ]
    }
  ]
}