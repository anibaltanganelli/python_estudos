{
  "nbformat": 4,
  "nbformat_minor": 0,
  "metadata": {
    "colab": {
      "provenance": [],
      "authorship_tag": "ABX9TyMwDBHhrEAW8ODYOOqYgjTT",
      "include_colab_link": true
    },
    "kernelspec": {
      "name": "python3",
      "display_name": "Python 3"
    },
    "language_info": {
      "name": "python"
    }
  },
  "cells": [
    {
      "cell_type": "markdown",
      "metadata": {
        "id": "view-in-github",
        "colab_type": "text"
      },
      "source": [
        "<a href=\"https://colab.research.google.com/github/anibaltanganelli/python_estudos/blob/main/listas_python_brasil.ipynb\" target=\"_parent\"><img src=\"https://colab.research.google.com/assets/colab-badge.svg\" alt=\"Open In Colab\"/></a>"
      ]
    },
    {
      "cell_type": "markdown",
      "source": [
        "Faça um Programa que leia um vetor de 5 números inteiros e mostre-os.\n"
      ],
      "metadata": {
        "id": "sjJfqpRKM8Az"
      }
    },
    {
      "cell_type": "code",
      "source": [
        "vetor = [1,2,3,4,5]\n",
        "for i in vetor:\n",
        "   print(i)\n",
        "\n",
        "vetor"
      ],
      "metadata": {
        "colab": {
          "base_uri": "https://localhost:8080/"
        },
        "id": "i47Zc2ZdM7dJ",
        "outputId": "93b330cf-80d5-48a2-e3ed-196bf656b370"
      },
      "execution_count": 56,
      "outputs": [
        {
          "output_type": "stream",
          "name": "stdout",
          "text": [
            "1\n",
            "2\n",
            "3\n",
            "4\n",
            "5\n"
          ]
        },
        {
          "output_type": "execute_result",
          "data": {
            "text/plain": [
              "[1, 2, 3, 4, 5]"
            ]
          },
          "metadata": {},
          "execution_count": 56
        }
      ]
    },
    {
      "cell_type": "code",
      "source": [
        "numeros = []\n",
        "for i in range(1,6):\n",
        "  x = int(input('insira o número: '))\n",
        "  numeros.append(x)\n",
        "\n",
        "print(numeros)"
      ],
      "metadata": {
        "colab": {
          "base_uri": "https://localhost:8080/"
        },
        "id": "Fg8z6ksQPvdl",
        "outputId": "5e8011ff-c573-43f7-fd73-3ac5a7cc50d3"
      },
      "execution_count": 57,
      "outputs": [
        {
          "output_type": "stream",
          "name": "stdout",
          "text": [
            "insira o número: 1\n",
            "insira o número: 2\n",
            "insira o número: 5\n",
            "insira o número: 6\n",
            "insira o número: 8\n",
            "[1, 2, 5, 6, 8]\n"
          ]
        }
      ]
    },
    {
      "cell_type": "markdown",
      "source": [
        "Faça um Programa que leia um vetor de 10 números reais e mostre-os na ordem inversa.\n",
        "\n",
        "\n"
      ],
      "metadata": {
        "id": "a3rsiODdOKeh"
      }
    },
    {
      "cell_type": "code",
      "source": [
        "numeros1 = []\n",
        "for i in range(1,11):\n",
        "  y = int(input('Insira o número: '))\n",
        "  numeros1.append(y)\n",
        "\n",
        "numeros1.reverse()\n",
        "\n",
        "print(numeros1)"
      ],
      "metadata": {
        "id": "PHoxrzDCOWD3"
      },
      "execution_count": null,
      "outputs": []
    },
    {
      "cell_type": "markdown",
      "source": [
        "Faça um Programa que leia 4 notas, mostre as notas e a média na tela.\n"
      ],
      "metadata": {
        "id": "71Y3QLAvTFNV"
      }
    },
    {
      "cell_type": "code",
      "source": [
        "notas = []\n",
        "media = 0\n",
        "\n",
        "for i in range(0,4):\n",
        "  y = float(input('Insira as notas: '))\n",
        "  notas.append(y)\n",
        "\n",
        "  media += y/4\n",
        "\n",
        "print(notas)\n",
        "print(media)\n"
      ],
      "metadata": {
        "id": "lH_ekMl7TDUj"
      },
      "execution_count": null,
      "outputs": []
    },
    {
      "cell_type": "markdown",
      "source": [
        "Faça um Programa que leia um vetor de 10 caracteres, e diga quantas consoantes foram lidas. Imprima as consoantes.\n"
      ],
      "metadata": {
        "id": "c7x9ll0kd2FG"
      }
    },
    {
      "cell_type": "code",
      "source": [
        "letras = []\n",
        "consoantes = []\n",
        "vogais = ('A', 'E', 'I', 'O', 'U')\n",
        "\n",
        "for i in range(1,3):\n",
        "  y = str(input('Insira letras: ').upper())\n",
        "  if y not in vogais:\n",
        "    consoantes += y\n",
        "\n",
        "print(consoantes)"
      ],
      "metadata": {
        "id": "epEVGwY2dyb-"
      },
      "execution_count": null,
      "outputs": []
    },
    {
      "cell_type": "markdown",
      "source": [
        "Faça um Programa que leia 20 números inteiros e armazene-os num vetor. Armazene os números pares no vetor PAR e os números IMPARES no vetor impar. Imprima os três vetores."
      ],
      "metadata": {
        "id": "r9v180DTjlZW"
      }
    },
    {
      "cell_type": "code",
      "source": [
        "inteiros = []\n",
        "impar = []\n",
        "par = []\n",
        "\n",
        "print('Par ou ímpar? ')\n",
        "\n",
        "for i in range (0,20):\n",
        "  numeros = int(input('Insira os números: '))\n",
        "  inteiros.append(numeros)\n",
        "  if numeros % 2 == 0:\n",
        "    par.append(numeros)\n",
        "  else:\n",
        "    impar.append(numeros)\n",
        "\n",
        "\n",
        "\n",
        "print(inteiros)\n",
        "print(par)\n",
        "print(impar)\n",
        "\n"
      ],
      "metadata": {
        "id": "d_vFNB_Vjo5O"
      },
      "execution_count": null,
      "outputs": []
    }
  ]
}