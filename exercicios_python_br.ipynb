{
  "nbformat": 4,
  "nbformat_minor": 0,
  "metadata": {
    "colab": {
      "provenance": [],
      "authorship_tag": "ABX9TyMZrh+SRziRD5SqAx7ozYd1",
      "include_colab_link": true
    },
    "kernelspec": {
      "name": "python3",
      "display_name": "Python 3"
    },
    "language_info": {
      "name": "python"
    }
  },
  "cells": [
    {
      "cell_type": "markdown",
      "metadata": {
        "id": "view-in-github",
        "colab_type": "text"
      },
      "source": [
        "<a href=\"https://colab.research.google.com/github/anibaltanganelli/python_estudos/blob/main/exercicios_python_br.ipynb\" target=\"_parent\"><img src=\"https://colab.research.google.com/assets/colab-badge.svg\" alt=\"Open In Colab\"/></a>"
      ]
    },
    {
      "cell_type": "markdown",
      "source": [
        "Faça um Programa que mostre a mensagem \"Alo mundo\" na tela.\n"
      ],
      "metadata": {
        "id": "MbEGWNcbQ7Km"
      }
    },
    {
      "cell_type": "code",
      "source": [
        "print('alo mundo')"
      ],
      "metadata": {
        "id": "eQXBjNe0Q8Lp"
      },
      "execution_count": null,
      "outputs": []
    },
    {
      "cell_type": "markdown",
      "source": [
        "Faça um Programa que peça um número e então mostre a mensagem O número informado foi [número]."
      ],
      "metadata": {
        "id": "WtRw09-eRNjr"
      }
    },
    {
      "cell_type": "code",
      "source": [
        "numero = int(input('Escreva um número: '))\n",
        "print(numero)"
      ],
      "metadata": {
        "id": "ehCg82BMR16W"
      },
      "execution_count": null,
      "outputs": []
    },
    {
      "cell_type": "markdown",
      "source": [
        "Faça um Programa que peça dois números e imprima a soma.\n"
      ],
      "metadata": {
        "id": "f6cmhU7qRTOo"
      }
    },
    {
      "cell_type": "code",
      "source": [
        "print('Olá, forneça dois números para eu fazer a soma!')\n",
        "numero1 = int(input('Digite o primeiro número. '))\n",
        "numero2 = int(input('Qual o segundo número? '))\n",
        "soma = (numero1 + numero2)\n",
        "print('O resultado da soma é {}'.format(soma))"
      ],
      "metadata": {
        "id": "iU5Zg9yxTOOQ"
      },
      "execution_count": null,
      "outputs": []
    },
    {
      "cell_type": "markdown",
      "source": [
        "Faça um Programa que peça as 4 notas bimestrais e mostre a média.\n"
      ],
      "metadata": {
        "id": "hWV9QcdfRV3i"
      }
    },
    {
      "cell_type": "code",
      "source": [
        "nota1 = float(input('Qual a primeira nota? '))\n",
        "nota2 = float(input('Qual a segunda nota? '))\n",
        "nota3 = float(input('Qual a terceira nota? '))\n",
        "nota4 = float(input('Qual a quarta nota? '))\n",
        "\n",
        "media = (nota1 + nota2 + nota3 + nota4)/4\n",
        "\n",
        "print('A média do foi: ', media)\n"
      ],
      "metadata": {
        "id": "SdjnwkIxTOSY"
      },
      "execution_count": null,
      "outputs": []
    },
    {
      "cell_type": "markdown",
      "source": [
        "Faça um Programa que converta metros para centímetros.\n"
      ],
      "metadata": {
        "id": "gDN8wThtRZA7"
      }
    },
    {
      "cell_type": "code",
      "source": [
        "print('Conversor de metros em centímetros')\n",
        "metros = float(input('Quantos metros? '))\n",
        "centimetros = (metros * 100)\n",
        "print('{} metros'.format(metros), 'tem {} centímetros'.format(centimetros))"
      ],
      "metadata": {
        "id": "G0_2yCtzVN1d"
      },
      "execution_count": null,
      "outputs": []
    },
    {
      "cell_type": "markdown",
      "source": [
        "Faça um Programa que peça o raio de um círculo, calcule e mostre sua área.\n"
      ],
      "metadata": {
        "id": "uRWzwLJwRbaZ"
      }
    },
    {
      "cell_type": "code",
      "source": [
        "import math\n",
        "raio = float(input('Qual o raio do círculo? '))\n",
        "area = math.pi * (raio**2)\n",
        "print('A área do cículo é {}'.format(area))"
      ],
      "metadata": {
        "id": "jPannBWXWQz0"
      },
      "execution_count": null,
      "outputs": []
    },
    {
      "cell_type": "markdown",
      "source": [
        "Faça um Programa que calcule a área de um quadrado, em seguida mostre o dobro desta área para o usuário.\n"
      ],
      "metadata": {
        "id": "KyF43q2URe4q"
      }
    },
    {
      "cell_type": "code",
      "source": [
        "lado = float(input('Qual o comprimento de um dos lados do quadrado? '))\n",
        "area_quadrado = lado**2\n",
        "print('A área do quadrado é ', area_quadrado)"
      ],
      "metadata": {
        "id": "TCz3kEKiX-pj"
      },
      "execution_count": null,
      "outputs": []
    },
    {
      "cell_type": "markdown",
      "source": [
        "Faça um Programa que pergunte quanto você ganha por hora e o número de horas trabalhadas no mês. Calcule e mostre o total do seu salário no referido mês.\n"
      ],
      "metadata": {
        "id": "areRDWoqRhqW"
      }
    },
    {
      "cell_type": "code",
      "source": [
        "print('Cálculo de salário.')\n",
        "valor_hora = float(input('Quanto você ganha por hora? '))\n",
        "horas_trabalhadas = float(input('Quantas horas você trabalha por mês '))\n",
        "salario = valor_hora * horas_trabalhadas\n",
        "print('Seu salário mensal é de R$ {}'.format(salario))"
      ],
      "metadata": {
        "id": "f8pF20A2aiwB"
      },
      "execution_count": null,
      "outputs": []
    },
    {
      "cell_type": "markdown",
      "source": [
        "Faça um Programa que peça a temperatura em graus Fahrenheit, transforme e mostre a temperatura em graus Celsius.\n"
      ],
      "metadata": {
        "id": "Nqnqtkv7Rj3-"
      }
    },
    {
      "cell_type": "code",
      "source": [
        "print('Cálculo para converter Fahrenheit em Celsius.')\n",
        "fahr = float(input('Qual a temperatura em Fahrenheit? '))\n",
        "celsius = (fahr - 32)/1.8\n",
        "print('A temperatura em Celsius é ', celsius)"
      ],
      "metadata": {
        "id": "S8bUalYQbmOS"
      },
      "execution_count": null,
      "outputs": []
    },
    {
      "cell_type": "markdown",
      "source": [
        "Faça um Programa que peça a temperatura em graus Celsius, transforme e mostre em graus Fahrenheit.\n"
      ],
      "metadata": {
        "id": "mMv6tBN2duSw"
      }
    },
    {
      "cell_type": "code",
      "source": [
        "print('Cálculo para converter Celsius em Fahrenheit.')\n",
        "cels = float(input('Qual a temperatura em Celsius? '))\n",
        "fahr = (cels * 1.8) + 32\n",
        "print('A temperatura em Fahrenheit é ', fahr)"
      ],
      "metadata": {
        "id": "fX60B1Ytd1ru"
      },
      "execution_count": null,
      "outputs": []
    },
    {
      "cell_type": "markdown",
      "source": [
        "Faça um Programa que peça 2 números inteiros e um número real. Calcule e mostre:\n",
        "o produto do dobro do primeiro com metade do segundo .\n",
        "a soma do triplo do primeiro com o terceiro.\n",
        "o terceiro elevado ao cubo."
      ],
      "metadata": {
        "id": "klQu_edXe7Ay"
      }
    },
    {
      "cell_type": "code",
      "source": [
        "numero1 = int(input('Forneça um número inteiro: '))\n",
        "numero2 = int(input('Forneça um número inteiro: '))\n",
        "numero3 = float(input('Forneça um número real: '))\n",
        "\n",
        "calculo = (numero1 * 2)+(numero2 / 2)\n",
        "calculo1 = (numero1 * 3) + numero3\n",
        "calculo2 = numero3**3\n",
        "\n",
        "print('O produto do dobro do primeiro número inteiro com a metade do segundo número inteiro é {}.'.format(calculo))\n",
        "print('A soma do triplo do primeiro número inteiro com o número real é {}.'.format(calculo1))\n",
        "print('Finalmente, o número real ao cubo é {}!'.format(calculo2))"
      ],
      "metadata": {
        "id": "KsMa1UEJe-5o"
      },
      "execution_count": null,
      "outputs": []
    },
    {
      "cell_type": "markdown",
      "source": [
        "\n",
        "\n",
        "Tendo como dados de entrada a altura de uma pessoa, construa um algoritmo que calcule seu peso ideal, usando a seguinte fórmula: \n",
        "(72.7*altura) - 58\n",
        "\n",
        "\n"
      ],
      "metadata": {
        "id": "PScTZtzrkxFR"
      }
    },
    {
      "cell_type": "code",
      "source": [
        "\n",
        "altura = float(input('Qual a sua altura? '))\n",
        "peso_ideal = (72.7 * altura) - 58\n",
        "print('Seu peso ideal é ', peso_ideal)"
      ],
      "metadata": {
        "id": "PayIUiXZlSax"
      },
      "execution_count": null,
      "outputs": []
    },
    {
      "cell_type": "markdown",
      "source": [
        "Tendo como dado de entrada a altura (h) de uma pessoa, construa um algoritmo que calcule seu peso ideal, utilizando as seguintes fórmulas:\n",
        "Para homens: (72.7*h) - 58\n",
        "Para mulheres: (62.1*h) - 44.7"
      ],
      "metadata": {
        "id": "2q_znJRWmv8k"
      }
    },
    {
      "cell_type": "code",
      "source": [
        "sexo = input('Qual seu sexo M/F? ')\n",
        "Altura = float(input('Qual sua altura? '))\n",
        "\n",
        "if sexo == 'F':\n",
        "  print((Altura * 62.1) - 44.7)\n",
        "\n",
        "else:\n",
        "  print((Altura * 72.7) - 58) "
      ],
      "metadata": {
        "id": "GgIwrqIumxPw"
      },
      "execution_count": null,
      "outputs": []
    },
    {
      "cell_type": "code",
      "execution_count": null,
      "metadata": {
        "id": "jdvWFH2QO5wr"
      },
      "outputs": [],
      "source": [
        "João Papo-de-Pescador, homem de bem, comprou um microcomputador para controlar o rendimento diário de seu trabalho. Toda vez que ele traz um peso de peixes maior que o estabelecido pelo regulamento de pesca do estado de São Paulo (50 quilos) deve pagar uma multa de R$ 4,00 por quilo excedente. João precisa que você faça um programa que leia a variável peso (peso de peixes) e calcule o excesso. Gravar na variável excesso a quantidade de quilos além do limite e na variável multa o valor da multa que João deverá pagar. Imprima os dados do programa com as mensagens adequadas.\n",
        "\n",
        "Faça um Programa que pergunte quanto você ganha por hora e o número de horas trabalhadas no mês. Calcule e mostre o total do seu salário no referido mês, sabendo-se que são descontados 11% para o Imposto de Renda, 8% para o INSS e 5% para o sindicato, faça um programa que nos dê:\n",
        "salário bruto.\n",
        "quanto pagou ao INSS.\n",
        "quanto pagou ao sindicato.\n",
        "o salário líquido.\n",
        "calcule os descontos e o salário líquido, conforme a tabela abaixo:\n",
        "+ Salário Bruto : R$\n",
        "- IR (11%) : R$\n",
        "- INSS (8%) : R$\n",
        "- Sindicato ( 5%) : R$\n",
        "= Salário Liquido : R$\n",
        "Obs.: Salário Bruto - Descontos = Salário Líquido.\n",
        "Faça um programa para uma loja de tintas. O programa deverá pedir o tamanho em metros quadrados da área a ser pintada. Considere que a cobertura da tinta é de 1 litro para cada 3 metros quadrados e que a tinta é vendida em latas de 18 litros, que custam R$ 80,00. Informe ao usuário a quantidades de latas de tinta a serem compradas e o preço total.\n",
        "Faça um Programa para uma loja de tintas. O programa deverá pedir o tamanho em metros quadrados da área a ser pintada. Considere que a cobertura da tinta é de 1 litro para cada 6 metros quadrados e que a tinta é vendida em latas de 18 litros, que custam R$ 80,00 ou em galões de 3,6 litros, que custam R$ 25,00.\n",
        "Informe ao usuário as quantidades de tinta a serem compradas e os respectivos preços em 3 situações:\n",
        "comprar apenas latas de 18 litros;\n",
        "comprar apenas galões de 3,6 litros;\n",
        "misturar latas e galões, de forma que o desperdício de tinta seja menor. Acrescente 10% de folga e sempre arredonde os valores para cima, isto é, considere latas cheias.\n",
        "Faça um programa que peça o tamanho de um arquivo para download (em MB) e a velocidade de um link de Internet (em Mbps), calcule e informe o tempo aproximado de download do arquivo usando este link (em minutos)."
      ]
    }
  ]
}