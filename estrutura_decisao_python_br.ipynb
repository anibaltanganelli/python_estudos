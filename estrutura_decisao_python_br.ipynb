{
  "nbformat": 4,
  "nbformat_minor": 0,
  "metadata": {
    "colab": {
      "provenance": [],
      "authorship_tag": "ABX9TyPpTpR8giyc4o9lsWvTh07R",
      "include_colab_link": true
    },
    "kernelspec": {
      "name": "python3",
      "display_name": "Python 3"
    },
    "language_info": {
      "name": "python"
    }
  },
  "cells": [
    {
      "cell_type": "markdown",
      "metadata": {
        "id": "view-in-github",
        "colab_type": "text"
      },
      "source": [
        "<a href=\"https://colab.research.google.com/github/anibaltanganelli/python_estudos/blob/main/estrutura_decisao_python_br.ipynb\" target=\"_parent\"><img src=\"https://colab.research.google.com/assets/colab-badge.svg\" alt=\"Open In Colab\"/></a>"
      ]
    },
    {
      "cell_type": "markdown",
      "source": [
        "Faça um Programa que peça dois números e imprima o maior deles."
      ],
      "metadata": {
        "id": "2lssdKTdAd_z"
      }
    },
    {
      "cell_type": "code",
      "execution_count": null,
      "metadata": {
        "id": "8swD5UCzAV3w"
      },
      "outputs": [],
      "source": [
        "print('Informe dois números e eu retornarei qual o maior.')\n",
        "num1 = int(input('Digite um número: '))\n",
        "num2 = int(input('Digite outro número: '))\n",
        "\n",
        "if num1 > num2:\n",
        "  print('O maior número é o', num1)\n",
        "else:\n",
        "  print('O maior número é o', num2)"
      ]
    },
    {
      "cell_type": "markdown",
      "source": [
        "Faça um Programa que peça um valor e mostre na tela se o valor é positivo ou negativo."
      ],
      "metadata": {
        "id": "ar1iANlKBU0d"
      }
    },
    {
      "cell_type": "code",
      "source": [
        "print('Informe um valor e eu direi se é positivo ou negativo.')\n",
        "\n",
        "num = int(input('Informe o valor: '))\n",
        "neutro = 0\n",
        "\n",
        "if num > 0:\n",
        "  print('O valor é positivo.')\n",
        "else:\n",
        "  print('O valor é negativo.')"
      ],
      "metadata": {
        "id": "DWVshm3dBWo_"
      },
      "execution_count": null,
      "outputs": []
    },
    {
      "cell_type": "markdown",
      "source": [
        "Faça um Programa que verifique se uma letra digitada é \"F\" ou \"M\". Conforme a letra escrever: F - Feminino, M - Masculino, Sexo Inválido.\n"
      ],
      "metadata": {
        "id": "ljF0FiyxC2bE"
      }
    },
    {
      "cell_type": "code",
      "source": [
        "sexo = str(input('Seu seco é F ou M?'))\n",
        "\n",
        "if sexo == 'F':\n",
        "  print('Feminino')\n",
        "elif sexo == 'M':\n",
        "  print('Masculino')\n",
        "else:\n",
        "  print('Sexo inválido')"
      ],
      "metadata": {
        "id": "r790dnqTC4_m"
      },
      "execution_count": null,
      "outputs": []
    },
    {
      "cell_type": "markdown",
      "source": [
        "Faça um Programa que verifique se uma letra digitada é vogal ou consoante.\n"
      ],
      "metadata": {
        "id": "PuPEsr-xD7bC"
      }
    },
    {
      "cell_type": "code",
      "source": [],
      "metadata": {
        "id": "S7kDjV8CFXBV"
      },
      "execution_count": null,
      "outputs": []
    },
    {
      "cell_type": "code",
      "source": [
        "print('Consoante ou vogal? \\n')\n",
        "\n",
        "letra = str(input('Informe uma letra:''\\n'))\n",
        "vogais = ['a', 'e', 'i', 'o', 'u']\n",
        "\n",
        "if letra in vogais:\n",
        "  print('A letra', letra, 'é uma vogal.')\n",
        "\n",
        "else:\n",
        "  print('A letra {} é uma consoante.'.format(letra))"
      ],
      "metadata": {
        "id": "TYdev1AeD-CR"
      },
      "execution_count": null,
      "outputs": []
    }
  ]
}