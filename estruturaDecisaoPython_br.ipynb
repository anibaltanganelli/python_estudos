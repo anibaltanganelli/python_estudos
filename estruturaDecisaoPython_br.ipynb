{
  "nbformat": 4,
  "nbformat_minor": 0,
  "metadata": {
    "colab": {
      "provenance": [],
      "authorship_tag": "ABX9TyNueJngpY7KFCh/F+bbKk57",
      "include_colab_link": true
    },
    "kernelspec": {
      "name": "python3",
      "display_name": "Python 3"
    },
    "language_info": {
      "name": "python"
    }
  },
  "cells": [
    {
      "cell_type": "markdown",
      "metadata": {
        "id": "view-in-github",
        "colab_type": "text"
      },
      "source": [
        "<a href=\"https://colab.research.google.com/github/anibaltanganelli/python_estudos/blob/main/estruturaDecisaoPython_br.ipynb\" target=\"_parent\"><img src=\"https://colab.research.google.com/assets/colab-badge.svg\" alt=\"Open In Colab\"/></a>"
      ]
    },
    {
      "cell_type": "markdown",
      "source": [
        "Faça um Programa que peça dois números e imprima o maior deles."
      ],
      "metadata": {
        "id": "2lssdKTdAd_z"
      }
    },
    {
      "cell_type": "code",
      "execution_count": null,
      "metadata": {
        "id": "8swD5UCzAV3w"
      },
      "outputs": [],
      "source": [
        "print('Informe dois números e eu retornarei qual o maior.')\n",
        "num1 = int(input('Digite um número: '))\n",
        "num2 = int(input('Digite outro número: '))\n",
        "\n",
        "if num1 > num2:\n",
        "  print('O maior número é o', num1)\n",
        "else:\n",
        "  print('O maior número é o', num2)"
      ]
    },
    {
      "cell_type": "markdown",
      "source": [
        "Faça um Programa que peça um valor e mostre na tela se o valor é positivo ou negativo."
      ],
      "metadata": {
        "id": "ar1iANlKBU0d"
      }
    },
    {
      "cell_type": "code",
      "source": [
        "print('Informe um valor e eu direi se é positivo ou negativo.')\n",
        "\n",
        "num = int(input('Informe o valor: '))\n",
        "neutro = 0\n",
        "\n",
        "if num > 0:\n",
        "  print('O valor é positivo.')\n",
        "else:\n",
        "  print('O valor é negativo.')"
      ],
      "metadata": {
        "id": "DWVshm3dBWo_"
      },
      "execution_count": null,
      "outputs": []
    },
    {
      "cell_type": "markdown",
      "source": [
        "Faça um Programa que verifique se uma letra digitada é \"F\" ou \"M\". Conforme a letra escrever: F - Feminino, M - Masculino, Sexo Inválido.\n"
      ],
      "metadata": {
        "id": "ljF0FiyxC2bE"
      }
    },
    {
      "cell_type": "code",
      "source": [
        "sexo = str(input('Seu seco é F ou M?'))\n",
        "\n",
        "if sexo == 'F':\n",
        "  print('Feminino')\n",
        "elif sexo == 'M':\n",
        "  print('Masculino')\n",
        "else:\n",
        "  print('Sexo inválido')"
      ],
      "metadata": {
        "id": "r790dnqTC4_m"
      },
      "execution_count": null,
      "outputs": []
    },
    {
      "cell_type": "markdown",
      "source": [
        "Faça um Programa que verifique se uma letra digitada é vogal ou consoante.\n"
      ],
      "metadata": {
        "id": "PuPEsr-xD7bC"
      }
    },
    {
      "cell_type": "code",
      "source": [
        "print('Consoante ou vogal? \\n')\n",
        "\n",
        "letra = str(input('Informe uma letra:''\\n')).upper()\n",
        "vogais = ['A', 'E', 'I', 'O', 'U']\n",
        "\n",
        "if letra in vogais:\n",
        "  print('A letra', letra, 'é uma vogal.')\n",
        "\n",
        "else:\n",
        "  print('A letra {} é uma consoante.'.format(letra))"
      ],
      "metadata": {
        "id": "TYdev1AeD-CR"
      },
      "execution_count": null,
      "outputs": []
    },
    {
      "cell_type": "markdown",
      "source": [
        "Faça um programa para a leitura de duas notas parciais de um aluno. O programa deve calcular a média alcançada por aluno e apresentar:\n",
        "A mensagem \"Aprovado\", se a média alcançada for maior ou igual a sete;\n",
        "A mensagem \"Reprovado\", se a média for menor do que sete;\n",
        "A mensagem \"Aprovado com Distinção\", se a média for igual a dez."
      ],
      "metadata": {
        "id": "06ozE664yLBj"
      }
    },
    {
      "cell_type": "code",
      "source": [
        "print('Calculadora de média')\n",
        "\n",
        "nome_aluno = str(input('\\nQual o nome do aluno? ')) #apenas praticando#\n",
        "nota1 = float(input('\\nInforme a primeira nota: '))\n",
        "nota2 = float(input('Informe a segunda nota: '))\n",
        "\n",
        "notas = (nota1, nota2)\n",
        "\n",
        "n = len(notas) ##apenas para praticar o len##\n",
        "\n",
        "media = (nota1 + nota2)/n\n",
        "\n",
        "\n",
        "if media >= 7 and media < 10:\n",
        "  print('\\nA média do aluno', nome_aluno,'é',media, 'e ele(a) foi aprovado')\n",
        "elif media < 7:\n",
        "  print('\\nA média do aluno', nome_aluno,'é',media, 'e ele(a) foi reprovado.')\n",
        "elif media == 10:\n",
        "  print('\\nA média do aluno', nome_aluno,'é',media, 'e ele(a) foi aprovado(a) com distinção.')\n",
        "\n",
        "\n",
        "\n"
      ],
      "metadata": {
        "id": "p-cEqmeHyQ7B"
      },
      "execution_count": null,
      "outputs": []
    },
    {
      "cell_type": "markdown",
      "source": [
        "Faça um Programa que leia três números e mostre o maior deles.\n",
        "\n",
        "\n",
        "\n"
      ],
      "metadata": {
        "id": "OcGthbOC3t-k"
      }
    },
    {
      "cell_type": "code",
      "source": [
        "print('Qual o maior dos três números inteiros?\\n ')\n",
        "num1 = int(input('Informe o primeiro número: '))\n",
        "num2 = int(input('Informe o primeiro número: '))\n",
        "num3 = int(input('Informe o primeiro número: '))\n",
        "\n",
        "x = num1\n",
        "\n",
        "if num2 > num1:\n",
        "  x = num2\n",
        "if num3 > num2:\n",
        "  x = num3\n",
        "\n",
        "print('O maior número é o',x)\n",
        "\n"
      ],
      "metadata": {
        "id": "2vFa1FGf3uwI"
      },
      "execution_count": null,
      "outputs": []
    },
    {
      "cell_type": "markdown",
      "source": [
        "Faça um Programa que leia três números e mostre o maior e o menor deles.\n",
        "\n",
        "\n",
        "\n"
      ],
      "metadata": {
        "id": "UwCRv5IM6AdT"
      }
    },
    {
      "cell_type": "code",
      "source": [
        "print('Qual o maior e o menor dos três números inteiros?\\n ')\n",
        "\n",
        "num1 = int(input('Informe o primeiro número: '))\n",
        "num2 = int(input('Informe o primeiro número: '))\n",
        "num3 = int(input('Informe o primeiro número: '))\n",
        "\n",
        "maior = num1\n",
        "menor = num1\n",
        "\n",
        "if num2 < num1 and num2 < num3:\n",
        "  menor = num2\n",
        "\n",
        "if num3 < num2 and num3 < num1:\n",
        "  menor = num3\n",
        "\n",
        "if num2 > num1 and num2 > num3:\n",
        "  maior = num2\n",
        "\n",
        "if num3 > num2 and num3 > num1:\n",
        "  maior = num3\n",
        "\n",
        "print('O maior número é o', maior,'e o menor é o', menor)\n",
        "\n",
        "\n"
      ],
      "metadata": {
        "id": "zNLgANqy6Blb"
      },
      "execution_count": null,
      "outputs": []
    },
    {
      "cell_type": "markdown",
      "source": [
        "Faça um programa que pergunte o preço de três produtos e informe qual produto você deve comprar, sabendo que a decisão é sempre pelo mais barato."
      ],
      "metadata": {
        "id": "m7TlWZ3oA3hS"
      }
    },
    {
      "cell_type": "code",
      "source": [
        "print('Qual a melhor compra? ')\n",
        "\n",
        "prod1 = str(input('Qual o produto 1? '))\n",
        "pr_prod1 = float(input('Qual o preço do produto 1? '))\n",
        "prod2 = str(input('Qual o produto2 ? '))\n",
        "pr_prod2 = float(input('Qual o preço do produto 2? '))\n",
        "prod3 = str(input('Qual o produto 3? '))\n",
        "pr_prod3 = float(input('Qual o preço do produto 3? '))\n",
        "\n",
        "melhor_compra = prod1\n",
        "\n",
        "if pr_prod2 < pr_prod3 and pr_prod2 < pr_prod1:\n",
        "  melhor_compra = prod2\n",
        "if pr_prod3 < pr_prod2 and pr_prod3 < pr_prod1:\n",
        "  melhor_compra = prod3\n",
        "\n",
        "\n",
        "print('A melhor compra é a do', melhor_compra)\n"
      ],
      "metadata": {
        "id": "JlG1yHZDA4lr"
      },
      "execution_count": null,
      "outputs": []
    },
    {
      "cell_type": "markdown",
      "source": [
        "\n",
        "Faça um Programa que leia três números e mostre-os em ordem decrescente.\n",
        "\n",
        "\n",
        "\n",
        "\n",
        "\n",
        "\n",
        "\n"
      ],
      "metadata": {
        "id": "zVIYeMC2UpMp"
      }
    },
    {
      "cell_type": "code",
      "source": [
        "print('Insira três números inteiros e os mostrarei em ordem decrescente.')\n",
        "\n",
        "numero1 = int(input('Digite o primeiro numero: '))\n",
        "numero2 = int(input('Digite o segundo numero: '))\n",
        "numero3 = int(input('Digite o terceiro numero: '))\n",
        "\n",
        "num = []\n",
        "num.append(numero1)\n",
        "num.append(numero2)\n",
        "num.append(numero3)\n",
        "\n",
        "num.sort()\n",
        "num.reverse()\n",
        "\n",
        "print(num)\n"
      ],
      "metadata": {
        "id": "K7YXY4KIUtle"
      },
      "execution_count": null,
      "outputs": []
    },
    {
      "cell_type": "markdown",
      "source": [
        "Faça um Programa que pergunte em que turno você estuda. Peça para digitar M-matutino ou V-Vespertino ou N- Noturno. Imprima a mensagem \"Bom Dia!\", \"Boa Tarde!\" ou \"Boa Noite!\" ou \"Valor Inválido!\", conforme o caso."
      ],
      "metadata": {
        "id": "QvyKVV-T23Lw"
      }
    },
    {
      "cell_type": "code",
      "source": [
        "turno = str(input('Olá! Em que turno você estuda? Para matutino digite M, para vespertino V e para notutno digite a letra N: ')).upper()\n",
        "\n",
        "\n",
        "if turno == 'M':\n",
        "  print('Bom dia!')\n",
        "\n",
        "elif turno == 'V':\n",
        "  print('Boa tarde!')\n",
        "\n",
        "elif turno == 'N':\n",
        "  print('Boa noite!')\n",
        "\n",
        "else:\n",
        "  print('Valor inválido!')\n"
      ],
      "metadata": {
        "id": "-nGO73Bd3gTX"
      },
      "execution_count": null,
      "outputs": []
    },
    {
      "cell_type": "code",
      "source": [
        "As Organizações Tabajara resolveram dar um aumento de salário aos seus colaboradores e lhe contrataram para desenvolver o programa que calculará os reajustes.\n",
        "Faça um programa que recebe o salário de um colaborador e o reajuste segundo o seguinte critério, baseado no salário atual:\n",
        "salários até R$ 280,00 (incluindo) : aumento de 20%\n",
        "salários entre R$ 280,00 e R$ 700,00 : aumento de 15%\n",
        "salários entre R$ 700,00 e R$ 1500,00 : aumento de 10%\n",
        "salários de R$ 1500,00 em diante : aumento de 5% Após o aumento ser realizado, informe na tela:\n",
        "o salário antes do reajuste;\n",
        "o percentual de aumento aplicado;\n",
        "o valor do aumento;\n",
        "o novo salário, após o aumento."
      ],
      "metadata": {
        "id": "phrAgIKt6DFU"
      },
      "execution_count": null,
      "outputs": []
    },
    {
      "cell_type": "code",
      "source": [
        "print('Cálculo de reajuste salaria.')\n",
        "salario = float(input('Informe o salário: '))\n",
        "\n",
        "if salario == 280:\n",
        "  salario1 = salario * 1.2\n",
        "  print('O salário inicial era de R$', salario, '\\nhouve um reajuste de 20%. \\nO salario atual é de R$', salario1)\n",
        "elif salario >= 281 and salario <= 700:\n",
        "  salario2 = salario * 1.15\n",
        "  print('O salário inicial era de R$', salario, '\\nhouve um reajuste de 15%. \\nO salario atual é de R$', salario2)\n",
        "elif salario >= 701 and salario <= 1500:\n",
        "  salario3 = salario * 1.1\n",
        "  print('O salário inicial era de R$', salario, '\\nhouve um reajuste de 10%. \\nO salario atual é de R$', salario3)\n",
        "elif salario >= 1501:\n",
        "  salario4 =salario * 1.05\n",
        "  print('O salário inicial era de R$', salario, '\\n houve um reajuste de 5%, \\no salario atual é de R$', salario4)"
      ],
      "metadata": {
        "id": "NsreQB3z6E4T"
      },
      "execution_count": null,
      "outputs": []
    },
    {
      "cell_type": "code",
      "source": [
        "Faça um programa para o cálculo de uma folha de pagamento, sabendo que os descontos são do Imposto de Renda, que depende do salário bruto (conforme tabela abaixo) \n",
        "3% para o Sindicato e que o FGTS corresponde a 11% do Salário Bruto, mas não é descontado (é a empresa que deposita). \n",
        "O Salário Líquido corresponde ao Salário Bruto menos os descontos. O programa deverá pedir ao usuário o valor da sua hora e a quantidade de horas trabalhadas no mês.\n",
        "Desconto do IR:\n",
        "Salário Bruto até 900 (inclusive) - isento\n",
        "Salário Bruto até 1500 (inclusive) - desconto de 5%\n",
        "Salário Bruto até 2500 (inclusive) - desconto de 10%\n",
        "Salário Bruto acima de 2500 - desconto de 20% Imprima na tela as informações, dispostas conforme o exemplo abaixo. No exemplo o valor da hora é 5 e a quantidade de hora é 220.\n",
        "\n",
        "Salário Bruto: (5 * 220)        : R$ 1100,00\n",
        "        (-) IR (5%)                     : R$   55,00  \n",
        "        (-) INSS ( 10%)                 : R$  110,00\n",
        "        FGTS (11%)                      : R$  121,00\n",
        "        Total de descontos              : R$  165,00\n",
        "        Salário Liquido                 : R$  935,00"
      ],
      "metadata": {
        "id": "LIndBYu7_Oum"
      },
      "execution_count": null,
      "outputs": []
    },
    {
      "cell_type": "code",
      "source": [
        "print('---------- Cálculo de folha de pagamento ----------')\n",
        "numero_horas = int(input('Quantas horas você trabalhou? '))\n",
        "salario_hora = float(input('Qual o valor de seu salário por hora? '))\n",
        "\n",
        "salario_bruto = numero_horas * salario_hora\n",
        "\n",
        "if salario_bruto <= 900:\n",
        "  IR1 = 0\n",
        "  INSS1 = salario_bruto * 0.1\n",
        "  FGTS1 = salario_bruto * 0.11\n",
        "  descontos1 = IR1 + INSS1\n",
        "  salario_liquido1 = salario_bruto - descontos1\n",
        "  print('Salário Bruto: (', numero_horas,'*', salario_hora,')      :R$', salario_bruto)\n",
        "  print('(-) IR (isento)                   : R$',IR1)\n",
        "  print('(-) INSS (10%)                    : R$',INSS1)\n",
        "  print('FGTS (11%)                        : R$',FGTS1)\n",
        "  print('TOtal de descontos                : R$',descontos1)\n",
        "  print('Salário Líquido                   : R$',salario_liquido1)\n",
        "\n",
        "\n",
        "elif salario_bruto > 900 and salario_bruto <= 1500:\n",
        "  IR2 = salario_bruto * 0.05\n",
        "  INSS2 = salario_bruto * 0.1\n",
        "  FGTS2 = salario_bruto * 0.11\n",
        "  descontos2 = IR2 + INSS2\n",
        "  salario_liquido2 = salario_bruto - descontos2\n",
        "  print('Salário Bruto: (', numero_horas,'*', salario_hora,')      :R$', salario_bruto)\n",
        "  print('(-) IR (5%)                       : R$',IR2)\n",
        "  print('(-) INSS (10%)                    : R$',INSS2)\n",
        "  print('FGTS (11%)                        : R$',FGTS2)\n",
        "  print('Total de descontos                : R$',descontos2)\n",
        "  print('Salário Líquido                   : R$',salario_liquido2)\n",
        "\n",
        "elif salario_bruto > 1500 and salario_bruto <= 2500:\n",
        "  IR3 = salario_bruto * 0.1\n",
        "  INSS3 = salario_bruto * 0.1\n",
        "  FGTS3 = salario_bruto * 0.11\n",
        "  descontos3 = IR3 + INSS3\n",
        "  salario_liquido3 = salario_bruto - descontos3\n",
        "  print('Salário Bruto: (', numero_horas,'*', salario_hora,')      :R$', salario_bruto)\n",
        "  print('(-) IR (10%)                      : R$',IR3)\n",
        "  print('(-) INSS (10%)                    : R$',INSS3)\n",
        "  print('FGTS (11%)                        : R$',FGTS3)\n",
        "  print('Total de descontos                : R$',descontos3)\n",
        "  print('Salário Líquido                   : R$',salario_liquido3)\n",
        "\n",
        "elif salario_bruto > 2500:\n",
        "  IR4 = salario_bruto * 0.2\n",
        "  INSS4 = salario_bruto * 0.1\n",
        "  FGTS4 = salario_bruto * 0.11\n",
        "  descontos4 = IR4 + INSS4\n",
        "  salario_liquido4 = salario_bruto - descontos4\n",
        "  print('Salário Bruto: (', numero_horas,'*', salario_hora,')      :R$', salario_bruto)\n",
        "  print('(-) IR (20%)                      : R$',IR4)\n",
        "  print('(-) INSS (10%)                    : R$',INSS4)\n",
        "  print('FGTS (11%)                        : R$',FGTS4)\n",
        "  print('Total de descontos                : R$',descontos4)\n",
        "  print('Salário Líquido                   : R$',salario_liquido4)\n",
        "\n",
        "\n"
      ],
      "metadata": {
        "id": "Qv59a3TE_RuI"
      },
      "execution_count": null,
      "outputs": []
    },
    {
      "cell_type": "markdown",
      "source": [
        "Faça um Programa que leia um número e exiba o dia correspondente da semana. (1-Domingo, 2- Segunda, etc.), se digitar outro valor deve aparecer valor inválido."
      ],
      "metadata": {
        "id": "TS6eTeu2IlA6"
      }
    },
    {
      "cell_type": "code",
      "source": [
        "dia = int(input(\"Qual o dia? \"))\n",
        "\n",
        "if dia == 1:\n",
        "  print('Domingo')\n",
        "elif dia == 2:\n",
        "  print('Segunda')\n",
        "elif dia == 3:\n",
        "  print('Terça')\n",
        "elif dia == 4:\n",
        "  print('Quarta')\n",
        "elif dia == 5:\n",
        "  print('Quinta')\n",
        "elif dia == 6:\n",
        "  print('Sexta')\n",
        "elif dia == 7:\n",
        "  print('Sábado')\n",
        "\n",
        "\n"
      ],
      "metadata": {
        "id": "_vGFbeIpImXV"
      },
      "execution_count": null,
      "outputs": []
    },
    {
      "cell_type": "code",
      "source": [
        "Faça um programa que lê as duas notas parciais obtidas por um aluno numa disciplina ao longo de um semestre, e calcule a sua média. A atribuição de conceitos obedece à tabela abaixo:\n",
        "  Média de Aproveitamento  Conceito\n",
        "  Entre 9.0 e 10.0        A\n",
        "  Entre 7.5 e 9.0         B\n",
        "  Entre 6.0 e 7.5         C\n",
        "  Entre 4.0 e 6.0         D\n",
        "  Entre 4.0 e zero        E\n",
        "O algoritmo deve mostrar na tela as notas, a média, o conceito correspondente e a mensagem “APROVADO” se o conceito for A, B ou C ou “REPROVADO” se o conceito for D ou E."
      ],
      "metadata": {
        "id": "NKJN5WUkQcxK"
      },
      "execution_count": null,
      "outputs": []
    },
    {
      "cell_type": "code",
      "source": [
        "print('Cálculo de média')\n",
        "nome = str(input('Qual o nome do aluno? '))\n",
        "nota1 = float(input('Qual a primeira nota: '))\n",
        "nota2 = float(input('Qual a segunda nota? '))\n",
        "\n",
        "media = (nota1+nota2)/2\n",
        "\n",
        "if media <= 4:\n",
        "  print('\\nNota 1:               ',nota1,\n",
        "        '\\nNota 2:               ',nota2,\n",
        "        '\\nMédia:                ',media,\n",
        "        '\\nConceito:              E'\n",
        "        '\\nO aluno,',nome, 'foi:   Reprovado ')\n",
        "if media > 4 and media < 6:\n",
        "  print('\\nNota 1:               ',nota1,\n",
        "        '\\nNota 2:               ',nota2,\n",
        "        '\\nMédia:                ',media,\n",
        "        '\\nConceito:              D'\n",
        "        '\\nO aluno,',nome, 'foi:   Reprovado ')\n",
        "if media >= 6 and media <= 7.5:\n",
        "  print('\\nNota 1:               ',nota1,\n",
        "        '\\nNota 2:               ',nota2,\n",
        "        '\\nMédia:                ',media,\n",
        "        '\\nConceito:              C'\n",
        "        '\\nO aluno,',nome, 'foi:   Aprovado ')\n",
        "if media > 7.5 and media < 9:\n",
        "  print('\\nNota 1:               ',nota1,\n",
        "        '\\nNota 2:               ',nota2,\n",
        "        '\\nMédia:                ',media,\n",
        "        '\\nConceito:              B'\n",
        "        '\\nO aluno,',nome, 'foi:   Aprovado ')\n",
        "if media >= 9 and media <= 10:\n",
        "  print('\\nNota 1:               ',nota1,\n",
        "        '\\nNota 2:               ',nota2,\n",
        "        '\\nMédia:                ',media,\n",
        "        '\\nConceito:              A'\n",
        "        '\\nO aluno,',nome, 'foi:   Aprovado ')\n"
      ],
      "metadata": {
        "id": "cgYn-nr4RIbN"
      },
      "execution_count": null,
      "outputs": []
    },
    {
      "cell_type": "code",
      "source": [
        "Faça um Programa que peça os 3 lados de um triângulo. O programa deverá informar se os valores podem ser um triângulo. Indique, caso os lados formem um triângulo, se o mesmo é: equilátero, isósceles ou escaleno.\n",
        "Dicas:\n",
        "Três lados formam um triângulo quando a soma de quaisquer dois lados for maior que o terceiro;\n",
        "Triângulo Equilátero: três lados iguais;\n",
        "Triângulo Isósceles: quaisquer dois lados iguais;\n",
        "Triângulo Escaleno: três lados diferentes;"
      ],
      "metadata": {
        "id": "RK24HB2BVXSE"
      },
      "execution_count": null,
      "outputs": []
    },
    {
      "cell_type": "code",
      "source": [
        "print('Informe os lados do triêngulo para saber se é Equilátero, Isósceles ou Escaleno.')\n",
        "\n",
        "lado_1 = float(input('Informe o primeiro lado: '))\n",
        "lado_2 = float(input('Informe o segundo lado: '))\n",
        "lado_3 = float(input('Informe o terceiro lado: '))\n",
        "\n",
        "if lado_1 == lado_2 and lado_2 == lado_3:\n",
        "  print('É um triângulo é Equilátero.')\n",
        "\n",
        "if lado_1 == lado_2 and lado_1 != lado_3:\n",
        "  print('É um triângulo Isósceles.')\n",
        "if lado_1 == lado_3 and lado_2 != lado_3:\n",
        "   print('É um triângulo Isósceles.')\n",
        "if lado_2 == lado_3 and lado_2 != lado_1:\n",
        "   print('É um triângulo Isósceles.')\n",
        "\n",
        "if lado_1 != lado_2 and lado_1 != lado_3 and lado_2 != lado_3:\n",
        "  print('É um triânculo Escaleno.')"
      ],
      "metadata": {
        "id": "EENOBJcHFNAU"
      },
      "execution_count": null,
      "outputs": []
    },
    {
      "cell_type": "code",
      "source": [
        "Faça um programa que calcule as raízes de uma equação do segundo grau, na forma ax2 + bx + c. O programa deverá pedir os valores de a, b e c e fazer as consistências,\n",
        " informando ao usuário nas seguintes situações:\n",
        "Se o usuário informar o valor de A igual a zero, a equação não é do segundo grau e o programa não deve fazer pedir os demais valores, sendo encerrado;\n",
        "Se o delta calculado for negativo, a equação não possui raizes reais. Informe ao usuário e encerre o programa;\n",
        "Se o delta calculado for igual a zero a equação possui apenas uma raiz real; informe-a ao usuário;\n",
        "Se o delta for positivo, a equação possui duas raiz reais; informe-as ao usuário;"
      ],
      "metadata": {
        "id": "jhvJ3KSuIZpP"
      },
      "execution_count": null,
      "outputs": []
    },
    {
      "cell_type": "code",
      "source": [
        "import math\n",
        "\n",
        "a = float(input('Informe o valor de a:'))\n",
        "if a == 0:\n",
        "  print('A não pode ser zero')\n",
        "else:\n",
        "\n",
        "  b = float(input('Informe o valor de b:'))\n",
        "  c = float(input('Informe o valor de c:'))\n",
        "\n",
        "delta = (b**2) - (4 * a * c)\n",
        "\n",
        "if delta < 0:\n",
        "  print('A equação não possui valores reais.')\n",
        "else:\n",
        "  x = -b + math.sqrt(delta)/2*a\n",
        "  x1 = -b -math.sqrt(delta)/2*a\n",
        "\n",
        "if delta == 0:\n",
        "  print('O delta possui apenas uma raiz real', x1)\n",
        "\n",
        "if delta > 0:\n",
        "  print('Delta possui duas raízes reais x1:{:.2f} e x2:{:.2f}'.format(x, x1))\n"
      ],
      "metadata": {
        "id": "gmwPUpNrIa6h"
      },
      "execution_count": null,
      "outputs": []
    },
    {
      "cell_type": "markdown",
      "source": [
        "17 - Faça um Programa que peça um número correspondente a um determinado ano e em seguida informe se este ano é ou não bissexto"
      ],
      "metadata": {
        "id": "EFM8QxLn6fvn"
      }
    },
    {
      "cell_type": "code",
      "source": [
        "print('Saiba se o ano é bissexto\\n')\n",
        "ano = int(input('Informe o ano: '))\n",
        "\n",
        "if ano %4 == 0:\n",
        "  print('O ano é bissexto!')\n",
        "else:\n",
        "  print('Não é um ano bissexto')"
      ],
      "metadata": {
        "id": "kvD2fP1_7mVg"
      },
      "execution_count": null,
      "outputs": []
    },
    {
      "cell_type": "markdown",
      "source": [
        "Faça um Programa que peça uma data no formato dd/mm/aaaa e determine se a mesma é uma data válida."
      ],
      "metadata": {
        "id": "2zwwSRSI8rij"
      }
    },
    {
      "cell_type": "code",
      "source": [
        "from pickle import TRUE\n",
        "print('Informe a data com dd/mm/aaaa')\n",
        "\n",
        "dia = int(input('informe o dia: '))\n",
        "mes = str(input('informe o mês: '))\n",
        "ano = int(input('Informe o ano: '))\n",
        "meses_30 = ['04', '06', '09', '11']\n",
        "meses_31 = ['01', '03', '05', '07', '08', '10', '12']\n",
        "x = dia\n",
        "y = mes\n",
        "\n",
        "if mes == '02' and ano %4 == 0 and dia <= 29:\n",
        " x = dia\n",
        "elif mes == '02' and ano %4 != 0 and dia <= 28 :\n",
        " x = dia\n",
        "elif mes in meses_31 and dia <= 31:\n",
        "  y = mes\n",
        "  x = dia\n",
        "elif mes in meses_30 and dia <= 30:\n",
        "  y = mes\n",
        "  x = dia\n",
        "\n",
        "else:\n",
        "  print('\\nA data informada é inválida. O ano de', ano, 'não é bissexto.')\n",
        "\n",
        "if x < 10:\n",
        "  print('\\nA data informada foi 0{}/{}/{}'.format(x, y, ano))\n",
        "\n",
        "if x >= 10:\n",
        "  print('\\nA data informada foi {}/{}/{}'.format(x, y, ano))\n",
        "\n"
      ],
      "metadata": {
        "id": "ewgZ0azp8uZX"
      },
      "execution_count": null,
      "outputs": []
    },
    {
      "cell_type": "markdown",
      "source": [
        "Faça um Programa que leia um número inteiro menor que 1000 e imprima a quantidade de centenas, dezenas e unidades do mesmo.\n",
        "Observando os termos no plural a colocação do \"e\", da vírgula entre outros. Exemplo:\n",
        "326 = 3 centenas, 2 dezenas e 6 unidades\n",
        "12 = 1 dezena e 2 unidades Testar com: 326, 300, 100, 320, 310,305, 301, 101, 311, 111, 25, 20, 10, 21, 11, 1, 7 e 16"
      ],
      "metadata": {
        "id": "nRC3eSiX2oje"
      }
    },
    {
      "cell_type": "code",
      "source": [
        "print('Informe um número e eu imprimirei a quantidade de centenas, dezenas e unidades do mesmo\\n')\n",
        "numero = (int(input('Informe um número inteiro menor que 1000: \\n')))\n",
        "\n",
        "unidade = numero % 10\n",
        "\n",
        "dezenas = ((numero - unidade) % 100)/10\n",
        "\n",
        "cente_ = int((numero - (dezenas*10)) - unidade)\n",
        "centenas = cente_ / 100\n",
        "\n",
        "\n",
        "print('O número informado possui {} centena(s), {} dezena(s) e {} unidade(s)'.format(centenas, dezenas, unidade))"
      ],
      "metadata": {
        "colab": {
          "base_uri": "https://localhost:8080/"
        },
        "id": "5fbtKy9EVyUR",
        "outputId": "9e22aef3-1a9b-4956-9600-1a65b683c288"
      },
      "execution_count": null,
      "outputs": [
        {
          "output_type": "stream",
          "name": "stdout",
          "text": [
            "Informe um número e eu imprimirei a quantidade de centenas, dezenas e unidades do mesmo\n",
            "\n",
            "Informe um número inteiro menor que 1000: \n",
            "100\n",
            "O número informado possui 1.0 centenas, 0.0 dezenas e 0 unidades\n"
          ]
        }
      ]
    },
    {
      "cell_type": "markdown",
      "source": [
        "Faça um Programa para leitura de três notas parciais de um aluno. O programa deve calcular a média alcançada por aluno e presentar:\n",
        "A mensagem \"Aprovado\", se a média for maior ou igual a 7, com a respectiva média alcançada;\n",
        "A mensagem \"Reprovado\", se a média for menor do que 7, com a respectiva média alcançada;\n",
        "A mensagem \"Aprovado com Distinção\", se a média for igual a 10."
      ],
      "metadata": {
        "id": "2pTaKYqSjjkw"
      }
    },
    {
      "cell_type": "code",
      "source": [
        "print('Cálculo de média')\n",
        "\n",
        "nota1 = float(input('Informe a primeira nota: '))\n",
        "nota2 = float(input('Informe a segunda nota: '))\n",
        "nota3 = float(input('Informe a terceira nota: '))\n",
        "\n",
        "media = (nota1 + nota2 + nota3)/3\n",
        "\n",
        "if media < 7:\n",
        "  print('O aluno ficou com média', media,'e foi reprovado.')\n",
        "if media >= 7 and media < 10:\n",
        "  print('O aluno fico com a média', media,'e foi aprovado.')\n",
        "if media == 10:\n",
        "  print('O aluno ficou com a média', media,'e foi aprovado com distinçao.')"
      ],
      "metadata": {
        "id": "hfwyVlJWjnwb"
      },
      "execution_count": null,
      "outputs": []
    },
    {
      "cell_type": "code",
      "source": [
        "21 -Faça um Programa para um caixa eletrônico. O programa deverá perguntar ao usuário a valor do saque e depois informar quantas notas de cada valor serão fornecidas. \n",
        "As notas disponíveis serão as de 1, 5, 10, 50 e 100 reais. O valor mínimo é de 10 reais e o máximo de 600 reais. O programa não deve se preocupar com a quantidade de notas \n",
        "existentes na máquina.\n",
        "Exemplo 1: Para sacar a quantia de 256 reais, o programa fornece duas notas de 100, uma nota de 50, uma nota de 5 e uma nota de 1;\n",
        "Exemplo 2: Para sacar a quantia de 399 reais, o programa fornece três notas de 100, uma nota de 50, quatro notas de 10, uma nota de 5 e quatro notas de 1."
      ],
      "metadata": {
        "id": "G9RzAjeKkhB_"
      },
      "execution_count": null,
      "outputs": []
    },
    {
      "cell_type": "code",
      "source": [
        "print('======================= Caixa eletrônico =======================\\n')\n",
        "print('Valor mínimo R$10,00 e valor máximo R$600,00\\n')\n",
        "\n",
        "valor = int(input('Informe o valor solicitado:'))\n",
        "\n",
        "if (valor < 10) or (valor > 600):\n",
        "  print('Valor não permitido.')\n",
        "\n",
        "\n",
        "if valor >= 10 and valor <= 600:\n",
        "  notas100 = valor//100\n",
        "  valor = valor % 100\n",
        "  print(notas100,'de R$100,00')\n",
        "\n",
        "  notas50 = valor//50\n",
        "  valor = valor % 50\n",
        "  print(notas50,'de R$50,00')\n",
        "\n",
        "  notas10 = valor//10\n",
        "  valor = valor % 10\n",
        "  print(notas10,'de R$10,00')\n",
        "\n",
        "  notas5 = valor//5\n",
        "  valor = valor % 5\n",
        "  print(notas5,'de R$5,00')\n",
        "  \n",
        "  notas1 = valor\n",
        "  print(notas1,'de R$1,00')\n",
        "\n",
        "\n",
        "\n",
        "\n",
        "\n",
        "\n"
      ],
      "metadata": {
        "id": "Hz0XRe8ECIPI"
      },
      "execution_count": null,
      "outputs": []
    },
    {
      "cell_type": "markdown",
      "source": [
        "Faça um Programa que peça um número inteiro e determine se ele é par ou impar. Dica: utilize o operador módulo (resto da divisão)."
      ],
      "metadata": {
        "id": "yAdvvHjAiuIS"
      }
    },
    {
      "cell_type": "code",
      "source": [
        "print('O número é par ou ímpar?')\n",
        "numero = int(input('Informe o número: '))\n",
        "if numero % 2 == 0:\n",
        "  print('O número {} é par.'.format(numero))\n",
        "else:\n",
        "  print(f'O número é ímpar.'.format(numero))"
      ],
      "metadata": {
        "id": "faUjDIS3iu4e"
      },
      "execution_count": null,
      "outputs": []
    },
    {
      "cell_type": "markdown",
      "source": [
        "23 - Faça um Programa que peça um número e informe se o número é inteiro ou \n",
        "\n",
        "\n",
        "decimal. Dica: utilize uma função de arredondamento."
      ],
      "metadata": {
        "id": "1VWiw1tOjdg-"
      }
    },
    {
      "cell_type": "code",
      "source": [
        "print('O número é inteiro ou decimal?')\n",
        "numero = float(input('Informe o número: '))\n",
        "\n",
        "if numero == round(numero):\n",
        "  print( 'O número é inteiro')\n",
        "else:\n",
        "  print('O número é decimal.')"
      ],
      "metadata": {
        "id": "OfCpHdVsjhtX"
      },
      "execution_count": null,
      "outputs": []
    },
    {
      "cell_type": "code",
      "source": [],
      "metadata": {
        "id": "o6NsTemIl2Yb"
      },
      "execution_count": null,
      "outputs": []
    }
  ]
}