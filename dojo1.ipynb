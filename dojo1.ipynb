{
  "nbformat": 4,
  "nbformat_minor": 0,
  "metadata": {
    "colab": {
      "provenance": [],
      "authorship_tag": "ABX9TyOCJhvFsBVoqNI26v0G2dbD",
      "include_colab_link": true
    },
    "kernelspec": {
      "name": "python3",
      "display_name": "Python 3"
    },
    "language_info": {
      "name": "python"
    }
  },
  "cells": [
    {
      "cell_type": "markdown",
      "metadata": {
        "id": "view-in-github",
        "colab_type": "text"
      },
      "source": [
        "<a href=\"https://colab.research.google.com/github/anibaltanganelli/python_estudos/blob/main/dojo1.ipynb\" target=\"_parent\"><img src=\"https://colab.research.google.com/assets/colab-badge.svg\" alt=\"Open In Colab\"/></a>"
      ]
    },
    {
      "cell_type": "markdown",
      "source": [
        "FizzBuzz\n",
        "Neste problema, você deverá exibir uma lista de 1 a 100, um em cada linha, com as\n",
        "seguintes exceções:\n",
        "- Números divisíveis por 3 deve aparecer como 'Fizz' ao invés do número;\n",
        "- Números divisíveis por 5 devem aparecer como 'Buzz' ao invés do número;\n",
        "- Números divisíveis por 3 e 5 devem aparecer como 'FizzBuzz' ao invés do número."
      ],
      "metadata": {
        "id": "clPLeKnSrsvj"
      }
    },
    {
      "cell_type": "code",
      "execution_count": null,
      "metadata": {
        "id": "NC4TRWIJiaJy"
      },
      "outputs": [],
      "source": [
        "for numero in range(1,101):\n",
        "\n",
        "  if numero % 3 == 0:\n",
        "    print('fizz')\n",
        "  if numero % 15 == 0:\n",
        "      print('Fizzbuzz')\n",
        "  elif numero % 5 == 0:\n",
        "    print('buzz')\n",
        "    \n",
        "  else:\n",
        "    print(numero)"
      ]
    },
    {
      "cell_type": "code",
      "source": [
        "for numero in range(1,101):\n",
        "\n",
        "  if (numero % 3 == 0) and (numero % 5 == 0):\n",
        "    print('fizzbuzz')\n",
        "    \n",
        "  elif (numero % 3 == 0):\n",
        "      print('fizz')\n",
        "  elif (numero % 5 == 0):\n",
        "      print('buzz')\n",
        "  else:\n",
        "      print(numero)"
      ],
      "metadata": {
        "id": "NtnrlLnjqdjW"
      },
      "execution_count": null,
      "outputs": []
    },
    {
      "cell_type": "markdown",
      "source": [
        "\n",
        " Pergunte ao usuário quantos donuts ele comeu e exiba a mensagem:\n",
        "\n",
        " Numero de donuts: x.\n",
        "\n",
        " caso esse número seja maior ou igual a 10 exiba:\n",
        "\n",
        " Numero de donuts: many"
      ],
      "metadata": {
        "id": "SgvKhtwJrzDn"
      }
    },
    {
      "cell_type": "code",
      "source": [
        "donuts = int(input('Quantos donuts você comeu? '))\n",
        "\n",
        "if donuts >= 10:\n",
        "  print('Many')\n",
        "else:\n",
        "  print(donuts)"
      ],
      "metadata": {
        "colab": {
          "base_uri": "https://localhost:8080/"
        },
        "id": "lXhLxB5nr5Pi",
        "outputId": "b9e3e3d2-0fcf-490f-9516-bfd62bae8c36"
      },
      "execution_count": 33,
      "outputs": [
        {
          "output_type": "stream",
          "name": "stdout",
          "text": [
            "Quantos donuts você comeu? 5\n",
            "5\n"
          ]
        }
      ]
    },
    {
      "cell_type": "markdown",
      "source": [
        "Dada uma string s, retorne uma string feita com os dois primeiros e os dois ultimos caracteres da string original.\n",
        "\n",
        "Exemplo:\n",
        "'spring' retorna 'spng'. \n",
        "\n",
        "Entretanto, se o tamanho da string for menor que 2, retorne uma\n",
        "string vazia."
      ],
      "metadata": {
        "id": "BofSqMv3tXWQ"
      }
    },
    {
      "cell_type": "code",
      "source": [
        "string = str(input('Digite uma palavara: '))\n",
        "\n",
        "if len(string) < 2:\n",
        "  print('')\n",
        "else:\n",
        "  print(string[0:2])\n",
        "  print(string[-2:])\n",
        "\n"
      ],
      "metadata": {
        "id": "jjD89kgvtlOv"
      },
      "execution_count": null,
      "outputs": []
    },
    {
      "cell_type": "markdown",
      "source": [
        "Dado uma string `s`, retornar uma string onde\n",
        "todas as ocorrências de seu primeiro caractere\n",
        "seja alterado para '*', exceto o primeiro caracter.\n",
        "Exemplo:\n",
        "babble ---> ba**le\n",
        "Presuma que o tamanho da string seja 1 ou mais."
      ],
      "metadata": {
        "id": "0cFN99YmvBLu"
      }
    },
    {
      "cell_type": "code",
      "source": [
        "from itertools import count\n",
        "string = str(input('Digite uma palavra: '))\n",
        "\n",
        "if string[0] in string[1::]:\n",
        "  print(string.replace(string[0], '*'))\n",
        "\n",
        "\n",
        "  ####ERRADO############\n",
        "\n",
        "  ##https://blog.betrybe.com/python/python-replace/#2##\n",
        "\n",
        "\n",
        "\n",
        "\n",
        "\n",
        "\n"
      ],
      "metadata": {
        "id": "E4-SaYvBwUCI"
      },
      "execution_count": null,
      "outputs": []
    },
    {
      "cell_type": "markdown",
      "source": [
        "mix_up\n",
        "Dado duas string `a` e `b`, trocar os 2 primeiros caracteres entre as variáveis\n",
        "e retornar uma única string separada por espaço como no exemplo:\n",
        "\"pezzy\", \"firm\" ----> \"fizzy perm\"\n"
      ],
      "metadata": {
        "id": "q2veI5IH-qhy"
      }
    },
    {
      "cell_type": "code",
      "source": [],
      "metadata": {
        "id": "Wm3IAMie8fwn"
      },
      "execution_count": null,
      "outputs": []
    }
  ]
}