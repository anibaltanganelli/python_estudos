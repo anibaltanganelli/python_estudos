{
  "nbformat": 4,
  "nbformat_minor": 0,
  "metadata": {
    "colab": {
      "provenance": [],
      "authorship_tag": "ABX9TyNo55DZrxNwabaAjm/PcJ4i",
      "include_colab_link": true
    },
    "kernelspec": {
      "name": "python3",
      "display_name": "Python 3"
    },
    "language_info": {
      "name": "python"
    }
  },
  "cells": [
    {
      "cell_type": "markdown",
      "metadata": {
        "id": "view-in-github",
        "colab_type": "text"
      },
      "source": [
        "<a href=\"https://colab.research.google.com/github/anibaltanganelli/python_estudos/blob/main/ScrapingAwari.ipynb\" target=\"_parent\"><img src=\"https://colab.research.google.com/assets/colab-badge.svg\" alt=\"Open In Colab\"/></a>"
      ]
    },
    {
      "cell_type": "code",
      "execution_count": null,
      "metadata": {
        "id": "4aEBmxn-JHzz"
      },
      "outputs": [],
      "source": [
        "dic = {\n",
        "    'comida'       : 1,\n",
        "    'alegre'       : 1,\n",
        "    'feliz'        : 1,\n",
        "    'triste'       : -1,\n",
        "    'insatisfeito' : -1,\n",
        "    'café'         : 0,\n",
        "    'bobo'         : -1,\n",
        "    'bobos'        : -1,\n",
        "    'bobó'         : 0,\n",
        "    'ruim'         : -1,\n",
        "    'animado'      : 1\n",
        "\n",
        "}"
      ]
    },
    {
      "cell_type": "code",
      "source": [
        "## para buscar uma palavra dentro do dicionário :##\n",
        "\n",
        "dic.get('bobo')\n"
      ],
      "metadata": {
        "id": "9bvCpVnVM4ZE"
      },
      "execution_count": null,
      "outputs": []
    },
    {
      "cell_type": "code",
      "source": [
        "### posso chamar um resultado para o caso de não existit ##\n",
        "dic.get('tristess', 'A palavra não consta em dic')"
      ],
      "metadata": {
        "id": "2ESVvNGvNd1f"
      },
      "execution_count": null,
      "outputs": []
    },
    {
      "cell_type": "code",
      "source": [
        "frase = 'Hoje estou feliz pois tomei café e fiquei mais animado. Ontem não foi um bom dia. A comida era um bobó e estava ruim. Fiquei insatisfeito.'"
      ],
      "metadata": {
        "id": "8ONlgEQVK6Uq"
      },
      "execution_count": null,
      "outputs": []
    },
    {
      "cell_type": "code",
      "source": [
        "def classificador_de_sentimentos(frase):\n",
        "  soma = 0 ## quero acumular o valor então...##\n",
        "  for palavras in frase.split():\n",
        "    valor = dic.get(palavras, 0) ## for palavras....... ###\n",
        "    soma += valor # acumulando#\n",
        "\n",
        "  print('A soma dos valores das palavras é',soma,'.')\n",
        "  if soma >= 2:\n",
        "    print('O sentimento da palavra é positivo.')\n",
        "  elif soma >= 0 and soma < 2:\n",
        "      print('O sentimento é neutro.')\n",
        "  else:\n",
        "        print('O sentimento é negativo.')"
      ],
      "metadata": {
        "id": "ZcjR9vM0OCoV"
      },
      "execution_count": null,
      "outputs": []
    },
    {
      "cell_type": "code",
      "source": [
        "classificador_de_sentimentos('Estou insatisfeito hoje.')"
      ],
      "metadata": {
        "id": "zGl6YhM7SrYq"
      },
      "execution_count": null,
      "outputs": []
    },
    {
      "cell_type": "code",
      "source": [
        "### buscando um elemento em uma frase ###\n",
        "\n",
        "exemplo = \"Eu hoje vou jogar muita coisa fora.\"\n",
        "exemplo.split()[3] ## selecionando o quarto elemento ##\n",
        "\n",
        "\n"
      ],
      "metadata": {
        "id": "soOoVGmLepyu"
      },
      "execution_count": null,
      "outputs": []
    },
    {
      "cell_type": "code",
      "source": [
        "### baixando o sentilex \n",
        "\n",
        "# primeiro vamos buscar no github no endereço: https://github.com/sillasgonzaga/lexiconPT/blob/master/data-raw/SentiLex-lem-PT02.txt dentro do git clica e raw e abre o arquivo puro. copiar a url\n",
        "\n",
        "url_sentilex = 'https://raw.githubusercontent.com/sillasgonzaga/lexiconPT/master/data-raw/SentiLex-lem-PT02.txt'\n",
        "\n",
        "\n"
      ],
      "metadata": {
        "id": "l9bRCw0Ffa8r"
      },
      "execution_count": null,
      "outputs": []
    },
    {
      "cell_type": "code",
      "source": [
        "import requests"
      ],
      "metadata": {
        "id": "zbe7V7bHgqPS"
      },
      "execution_count": null,
      "outputs": []
    },
    {
      "cell_type": "code",
      "source": [
        "response = requests.get(url_sentilex).text \n",
        "\n",
        "# para a variável response,  com a função text de requests busque no url e execute."
      ],
      "metadata": {
        "id": "uICq9V2XgwI9"
      },
      "execution_count": null,
      "outputs": []
    },
    {
      "cell_type": "code",
      "source": [
        "response.split('\\n') ##dividindo em linhas"
      ],
      "metadata": {
        "id": "gw911qC4hqCu"
      },
      "execution_count": null,
      "outputs": []
    },
    {
      "cell_type": "code",
      "source": [
        "response"
      ],
      "metadata": {
        "id": "X2sQSEJghn_6"
      },
      "execution_count": null,
      "outputs": []
    },
    {
      "cell_type": "code",
      "source": [
        "# criar um dicionário com o nome e a polaridade\n",
        "# para testar, usaremos uma única linha para depois aplicar em todas\n",
        "\n",
        "linha = 'à-vontade.PoS=N;TG=HUM:N0;POL:N0=1;ANOT=MAN'\n",
        "\n"
      ],
      "metadata": {
        "id": "Sknc-kD7jIHq"
      },
      "execution_count": null,
      "outputs": []
    },
    {
      "cell_type": "code",
      "source": [
        "palavra1 = linha.split('.')[0] ## separei no ponto e selecionei a primeira palavra 0"
      ],
      "metadata": {
        "id": "2gXZoyBejqaK"
      },
      "execution_count": null,
      "outputs": []
    },
    {
      "cell_type": "code",
      "source": [
        "print(palavra1)"
      ],
      "metadata": {
        "id": "zS_W685lTwz1"
      },
      "execution_count": null,
      "outputs": []
    },
    {
      "cell_type": "code",
      "source": [
        "polaridade = int(linha.split(';')[2].split('=')[1]) #separado pelo ';' na posiçaõ, separando por '=' e selecionando o dado da posição 1. transformar em inteiro"
      ],
      "metadata": {
        "id": "VUW0qrPvlC_v"
      },
      "execution_count": null,
      "outputs": []
    },
    {
      "cell_type": "code",
      "source": [
        "##criando o dicionário\n",
        "\n",
        "dic_words = {}\n",
        "dic_words [palavra] : polaridade\n"
      ],
      "metadata": {
        "id": "lkP-dRZTmMKP"
      },
      "execution_count": null,
      "outputs": []
    },
    {
      "cell_type": "code",
      "source": [
        "dic_words = {}\n",
        "for i in response.split('\\n'):\n",
        "  palavra = i.split('.')[0]\n",
        "  polaridade = int(i.split(';')[2].split('=')[1])\n",
        "  dic_words [palavra] = polaridade"
      ],
      "metadata": {
        "id": "71UVKNg2oD87"
      },
      "execution_count": null,
      "outputs": []
    },
    {
      "cell_type": "code",
      "source": [
        "dic_words"
      ],
      "metadata": {
        "id": "Fo32JNLlo1pd"
      },
      "execution_count": null,
      "outputs": []
    },
    {
      "cell_type": "code",
      "source": [
        "def normaliza_string(frase):\n",
        "  return frase.lower().replace('.','').replace(',','').replace('\"','').replace(\"'\",'') #colocando as frases do dicionario em minúsculo e substituindo ponto e vírgula por nada. ou seja, normalizando\n"
      ],
      "metadata": {
        "id": "7NpKWT2jdGhJ"
      },
      "execution_count": null,
      "outputs": []
    },
    {
      "cell_type": "code",
      "source": [
        "def classifica_sentimentos(frase):\n",
        "  frase = normaliza_string(frase) ##chamou a função acima\n",
        "  soma = 0 ## quero acumular o valor então...##\n",
        "  for palavras in frase.split():\n",
        "    valor = dic_words.get(palavras, 0) ## for palavras....... se não houver é 0; Aqui atualiado com o novo dicionario do dictLex###\n",
        "    print(f'LOG: {palavras} : {valor}')\n",
        "    soma += valor # acumulando#\n",
        "\n",
        "  if soma >= 1:\n",
        "    return 'O sentimento da frase é positivo.'\n",
        "  elif soma == 0:\n",
        "    return 'O sentimento é neutro.'\n",
        "  else:\n",
        "    return 'O sentimento é negativo.'"
      ],
      "metadata": {
        "id": "2U6Ttsu0BSWI"
      },
      "execution_count": null,
      "outputs": []
    },
    {
      "cell_type": "code",
      "source": [
        "classifica_sentimentos('Amanhã será mais feliz do que hoje!')"
      ],
      "metadata": {
        "colab": {
          "base_uri": "https://localhost:8080/",
          "height": 157
        },
        "id": "DSiltJAjFFkr",
        "outputId": "d6f3897a-281f-4e1f-ea2d-514d40c1c4d8"
      },
      "execution_count": null,
      "outputs": [
        {
          "output_type": "stream",
          "name": "stdout",
          "text": [
            "LOG: amanhã : 0\n",
            "LOG: será : 0\n",
            "LOG: mais : 0\n",
            "LOG: feliz : 1\n",
            "LOG: do : 0\n",
            "LOG: que : 0\n",
            "LOG: hoje! : 0\n"
          ]
        },
        {
          "output_type": "execute_result",
          "data": {
            "text/plain": [
              "'O sentimento da frase é positivo.'"
            ],
            "application/vnd.google.colaboratory.intrinsic+json": {
              "type": "string"
            }
          },
          "metadata": {},
          "execution_count": 48
        }
      ]
    },
    {
      "cell_type": "code",
      "source": [
        "from bs4 import BeautifulSoup ###biblioteca de extração de dados html e xml"
      ],
      "metadata": {
        "id": "oY2HO_YtI8MB"
      },
      "execution_count": null,
      "outputs": []
    },
    {
      "cell_type": "code",
      "source": [
        "url_globo = 'https://www.globo.com/'\n",
        "\n",
        "new_response = requests.get(url_globo).text"
      ],
      "metadata": {
        "id": "rTgU03fiKfh4"
      },
      "execution_count": null,
      "outputs": []
    },
    {
      "cell_type": "code",
      "source": [
        "soup = BeautifulSoup(new_response, 'html.parser') #O parser é um analisador sintático. Sua função é ler uma entrada de dados que possuem certas regras específicas - em geral é um texto reconhecível por humanos - e montar uma estrutura de como é sua composição https://pt.stackoverflow.com/questions/99632/o-que-%C3%A9-parse-e-como-funciona-o-parse-do-dom-no-html5#:~:text=O%20parser%20%C3%A9%20um%20analisador,de%20como%20%C3%A9%20sua%20composi%C3%A7%C3%A3o."
      ],
      "metadata": {
        "id": "AyIKzmb2LDFu"
      },
      "execution_count": null,
      "outputs": []
    },
    {
      "cell_type": "code",
      "source": [
        "new_response"
      ],
      "metadata": {
        "id": "i2K6OJQ6Kz99"
      },
      "execution_count": null,
      "outputs": []
    },
    {
      "cell_type": "code",
      "source": [
        "soup.title #ver o código html. nesse caso solicitou o título"
      ],
      "metadata": {
        "id": "VYZD_PQ0LXg6"
      },
      "execution_count": null,
      "outputs": []
    },
    {
      "cell_type": "code",
      "source": [
        "soup.findAll('h2') \n",
        "#solicitou todo os ''. o resultado é uma lista. Poeranto, posso criar uma lista"
      ],
      "metadata": {
        "id": "L3jDRv0fFrL_"
      },
      "execution_count": null,
      "outputs": []
    },
    {
      "cell_type": "code",
      "source": [
        "for h2 in soup.findAll('h2', {'class':\"post__title\"}): #solicitando o h2 e os itens cuja classe sejam post__titlle. Isso foi verificado pois aparecia as seções 'Entretenimento e tc', 'Esporte\".... que eram especificadas no html por outra classe\n",
        "  print(h2.text) ##pegando só o texto"
      ],
      "metadata": {
        "id": "RlINL4rSGap8"
      },
      "execution_count": null,
      "outputs": []
    },
    {
      "cell_type": "code",
      "source": [
        "lista_manchete_globo = [] ##criando uma variável com essas informações\n",
        "\n",
        "for h2 in soup.findAll('h2', {'class':\"post__title\"}): \n",
        "  lista_manchete_globo.append(h2.text)"
      ],
      "metadata": {
        "id": "nFHYKQVYLBdl"
      },
      "execution_count": null,
      "outputs": []
    },
    {
      "cell_type": "code",
      "source": [
        "for manchete in lista_manchete_globo:\n",
        "  print(manchete)\n",
        "  sent = classifica_sentimentos(manchete)\n",
        "  print(sent)\n",
        "  print('___________________________________________________________________\\n')\n",
        "\n"
      ],
      "metadata": {
        "colab": {
          "base_uri": "https://localhost:8080/"
        },
        "id": "YHfa0teqLzz8",
        "outputId": "03ad2e3f-1a8d-473c-b622-db218288f934"
      },
      "execution_count": null,
      "outputs": [
        {
          "output_type": "stream",
          "name": "stdout",
          "text": [
            " Bloqueados R$ 2 bi de suspeitos de tráfico de ouro; PF tenta prender 3\n",
            "LOG: bloqueados : 0\n",
            "LOG: r$ : 0\n",
            "LOG: 2 : 0\n",
            "LOG: bi : 0\n",
            "LOG: de : 0\n",
            "LOG: suspeitos : 0\n",
            "LOG: de : 0\n",
            "LOG: tráfico : 0\n",
            "LOG: de : 0\n",
            "LOG: ouro; : 0\n",
            "LOG: pf : 0\n",
            "LOG: tenta : 0\n",
            "LOG: prender : 0\n",
            "LOG: 3 : 0\n",
            "O sentimento é neutro.\n",
            "___________________________________________________________________\n",
            "\n",
            "Miriam: 'Proteger a Amazônia é palavra de ordem, e fundo é importante'\n",
            "LOG: miriam: : 0\n",
            "LOG: proteger : 0\n",
            "LOG: a : 0\n",
            "LOG: amazônia : 0\n",
            "LOG: é : 0\n",
            "LOG: palavra : 0\n",
            "LOG: de : 0\n",
            "LOG: ordem : 0\n",
            "LOG: e : 0\n",
            "LOG: fundo : 0\n",
            "LOG: é : 0\n",
            "LOG: importante : 0\n",
            "O sentimento é neutro.\n",
            "___________________________________________________________________\n",
            "\n",
            "Ferramenta ajuda a detectar crimes na Amazônia em tempo real\n",
            "LOG: ferramenta : 0\n",
            "LOG: ajuda : 0\n",
            "LOG: a : 0\n",
            "LOG: detectar : 0\n",
            "LOG: crimes : 0\n",
            "LOG: na : 0\n",
            "LOG: amazônia : 0\n",
            "LOG: em : 0\n",
            "LOG: tempo : 0\n",
            "LOG: real : 1\n",
            "O sentimento da frase é positivo.\n",
            "___________________________________________________________________\n",
            "\n",
            " Brasil terá Ramon como interino em amistoso contra Marrocos\n",
            "LOG: brasil : 0\n",
            "LOG: terá : 0\n",
            "LOG: ramon : 0\n",
            "LOG: como : 0\n",
            "LOG: interino : 0\n",
            "LOG: em : 0\n",
            "LOG: amistoso : 1\n",
            "LOG: contra : 0\n",
            "LOG: marrocos : 0\n",
            "O sentimento da frase é positivo.\n",
            "___________________________________________________________________\n",
            "\n",
            "Mundial de Clubes: Uefa e Conmebol ainda estudam como distribuir vagas\n",
            "LOG: mundial : 0\n",
            "LOG: de : 0\n",
            "LOG: clubes: : 0\n",
            "LOG: uefa : 0\n",
            "LOG: e : 0\n",
            "LOG: conmebol : 0\n",
            "LOG: ainda : 0\n",
            "LOG: estudam : 0\n",
            "LOG: como : 0\n",
            "LOG: distribuir : 0\n",
            "LOG: vagas : 0\n",
            "O sentimento é neutro.\n",
            "___________________________________________________________________\n",
            "\n",
            "Manipulação na Série B: perguntas e respostas sobre o esquema \n",
            "LOG: manipulação : -1\n",
            "LOG: na : 0\n",
            "LOG: série : 0\n",
            "LOG: b: : 0\n",
            "LOG: perguntas : 0\n",
            "LOG: e : 0\n",
            "LOG: respostas : 0\n",
            "LOG: sobre : 0\n",
            "LOG: o : 0\n",
            "LOG: esquema : 0\n",
            "O sentimento é negativo.\n",
            "___________________________________________________________________\n",
            "\n",
            "Tabela do Brasileirão: CBF divulga jogos da Série A\n",
            "LOG: tabela : 0\n",
            "LOG: do : 0\n",
            "LOG: brasileirão: : 0\n",
            "LOG: cbf : 0\n",
            "LOG: divulga : 0\n",
            "LOG: jogos : 0\n",
            "LOG: da : 0\n",
            "LOG: série : 0\n",
            "LOG: a : 0\n",
            "O sentimento é neutro.\n",
            "___________________________________________________________________\n",
            "\n",
            "Após 3° lugar no Mundial, Fla pega o Volta Redonda hoje pelo Carioca\n",
            "LOG: após : 0\n",
            "LOG: 3° : 0\n",
            "LOG: lugar : 0\n",
            "LOG: no : 0\n",
            "LOG: mundial : 0\n",
            "LOG: fla : 0\n",
            "LOG: pega : 0\n",
            "LOG: o : 0\n",
            "LOG: volta : 0\n",
            "LOG: redonda : 0\n",
            "LOG: hoje : 0\n",
            "LOG: pelo : 0\n",
            "LOG: carioca : 0\n",
            "O sentimento é neutro.\n",
            "___________________________________________________________________\n",
            "\n",
            "Palmeiras revê Corinthians após ter 2022 perfeito no Dérbi \n",
            "LOG: palmeiras : 0\n",
            "LOG: revê : 0\n",
            "LOG: corinthians : 0\n",
            "LOG: após : 0\n",
            "LOG: ter : 0\n",
            "LOG: 2022 : 0\n",
            "LOG: perfeito : 1\n",
            "LOG: no : 0\n",
            "LOG: dérbi : 0\n",
            "O sentimento da frase é positivo.\n",
            "___________________________________________________________________\n",
            "\n",
            "Veja reação de Paula com VAR de vídeos de Cristian no Bate-Papo BBB\n",
            "LOG: veja : 0\n",
            "LOG: reação : 0\n",
            "LOG: de : 0\n",
            "LOG: paula : 0\n",
            "LOG: com : 0\n",
            "LOG: var : 0\n",
            "LOG: de : 0\n",
            "LOG: vídeos : 0\n",
            "LOG: de : 0\n",
            "LOG: cristian : 0\n",
            "LOG: no : 0\n",
            "LOG: bate-papo : 0\n",
            "LOG: bbb : 0\n",
            "O sentimento é neutro.\n",
            "___________________________________________________________________\n",
            "\n",
            "Qual foi a descoberta de Paula no BBB23? Confira\n",
            "LOG: qual : 0\n",
            "LOG: foi : 0\n",
            "LOG: a : 0\n",
            "LOG: descoberta : 0\n",
            "LOG: de : 0\n",
            "LOG: paula : 0\n",
            "LOG: no : 0\n",
            "LOG: bbb23? : 0\n",
            "LOG: confira : 0\n",
            "O sentimento é neutro.\n",
            "___________________________________________________________________\n",
            "\n",
            "Fred após saída de Paula: 'Aqui se faz, aqui se paga'\n",
            "LOG: fred : 0\n",
            "LOG: após : 0\n",
            "LOG: saída : 0\n",
            "LOG: de : 0\n",
            "LOG: paula: : 0\n",
            "LOG: aqui : 0\n",
            "LOG: se : 0\n",
            "LOG: faz : 0\n",
            "LOG: aqui : 0\n",
            "LOG: se : 0\n",
            "LOG: paga : 0\n",
            "O sentimento é neutro.\n",
            "___________________________________________________________________\n",
            "\n",
            "Naiara Azevedo alfineta Paula\n",
            "LOG: naiara : 0\n",
            "LOG: azevedo : 0\n",
            "LOG: alfineta : 0\n",
            "LOG: paula : 0\n",
            "O sentimento é neutro.\n",
            "___________________________________________________________________\n",
            "\n",
            "Gustavo e Key Alves têm 'momento Ghost', e sister faz pedido ousado \n",
            "LOG: gustavo : 0\n",
            "LOG: e : 0\n",
            "LOG: key : 0\n",
            "LOG: alves : 0\n",
            "LOG: têm : 0\n",
            "LOG: momento : 0\n",
            "LOG: ghost : 0\n",
            "LOG: e : 0\n",
            "LOG: sister : 0\n",
            "LOG: faz : 0\n",
            "LOG: pedido : 0\n",
            "LOG: ousado : 0\n",
            "O sentimento é neutro.\n",
            "___________________________________________________________________\n",
            "\n",
            "Madrugada tem alfinetadas e indiretas calientes; resumo\n",
            "LOG: madrugada : 0\n",
            "LOG: tem : 0\n",
            "LOG: alfinetadas : 0\n",
            "LOG: e : 0\n",
            "LOG: indiretas : 0\n",
            "LOG: calientes; : 0\n",
            "LOG: resumo : 0\n",
            "O sentimento é neutro.\n",
            "___________________________________________________________________\n",
            "\n",
            "Após tremor, Turquia enfrenta falta de água e saneamento\n",
            "LOG: após : 0\n",
            "LOG: tremor : 0\n",
            "LOG: turquia : 0\n",
            "LOG: enfrenta : 0\n",
            "LOG: falta : 0\n",
            "LOG: de : 0\n",
            "LOG: água : 0\n",
            "LOG: e : 0\n",
            "LOG: saneamento : 0\n",
            "O sentimento é neutro.\n",
            "___________________________________________________________________\n",
            "\n",
            "Bebê turco sai vivo após queda de 5 andares \n",
            "LOG: bebê : 0\n",
            "LOG: turco : 0\n",
            "LOG: sai : 0\n",
            "LOG: vivo : 1\n",
            "LOG: após : 0\n",
            "LOG: queda : 0\n",
            "LOG: de : 0\n",
            "LOG: 5 : 0\n",
            "LOG: andares : 0\n",
            "O sentimento da frase é positivo.\n",
            "___________________________________________________________________\n",
            "\n",
            "Jatos supersônicos russos fazem voos perto do R. Unido\n",
            "LOG: jatos : 0\n",
            "LOG: supersônicos : 0\n",
            "LOG: russos : 0\n",
            "LOG: fazem : 0\n",
            "LOG: voos : 0\n",
            "LOG: perto : 0\n",
            "LOG: do : 0\n",
            "LOG: r : 0\n",
            "LOG: unido : 0\n",
            "O sentimento é neutro.\n",
            "___________________________________________________________________\n",
            "\n",
            "5 curiosidades sobre objetos abatidos nos EUA\n",
            "LOG: 5 : 0\n",
            "LOG: curiosidades : 0\n",
            "LOG: sobre : 0\n",
            "LOG: objetos : 0\n",
            "LOG: abatidos : 0\n",
            "LOG: nos : 0\n",
            "LOG: eua : 0\n",
            "O sentimento é neutro.\n",
            "___________________________________________________________________\n",
            "\n",
            "Governo dispensa ex-Marinha e Marcos Pontes de comitê\n",
            "LOG: governo : 0\n",
            "LOG: dispensa : 0\n",
            "LOG: ex-marinha : 0\n",
            "LOG: e : 0\n",
            "LOG: marcos : 0\n",
            "LOG: pontes : 0\n",
            "LOG: de : 0\n",
            "LOG: comitê : 0\n",
            "O sentimento é neutro.\n",
            "___________________________________________________________________\n",
            "\n",
            "Randolfe nega ceder mais cargos e exige 80% fiéis\n",
            "LOG: randolfe : 0\n",
            "LOG: nega : 0\n",
            "LOG: ceder : -1\n",
            "LOG: mais : 0\n",
            "LOG: cargos : 0\n",
            "LOG: e : 0\n",
            "LOG: exige : 0\n",
            "LOG: 80% : 0\n",
            "LOG: fiéis : 0\n",
            "O sentimento é negativo.\n",
            "___________________________________________________________________\n",
            "\n",
            "SP: falha elétrica paralisa Linha 4- Amarela e gera caos\n",
            "LOG: sp: : 0\n",
            "LOG: falha : 0\n",
            "LOG: elétrica : 0\n",
            "LOG: paralisa : 0\n",
            "LOG: linha : 0\n",
            "LOG: 4- : 0\n",
            "LOG: amarela : 0\n",
            "LOG: e : 0\n",
            "LOG: gera : 0\n",
            "LOG: caos : 0\n",
            "O sentimento é neutro.\n",
            "___________________________________________________________________\n",
            "\n",
            "RJ prende 8 em ação contra revenda de iPhones roubados\n",
            "LOG: rj : 0\n",
            "LOG: prende : 0\n",
            "LOG: 8 : 0\n",
            "LOG: em : 0\n",
            "LOG: ação : 0\n",
            "LOG: contra : 0\n",
            "LOG: revenda : 0\n",
            "LOG: de : 0\n",
            "LOG: iphones : 0\n",
            "LOG: roubados : 0\n",
            "O sentimento é neutro.\n",
            "___________________________________________________________________\n",
            "\n",
            "Morre garoto tailandês salvo de caverna em 2018\n",
            "LOG: morre : 0\n",
            "LOG: garoto : -1\n",
            "LOG: tailandês : 0\n",
            "LOG: salvo : 1\n",
            "LOG: de : 0\n",
            "LOG: caverna : 0\n",
            "LOG: em : 0\n",
            "LOG: 2018 : 0\n",
            "O sentimento é neutro.\n",
            "___________________________________________________________________\n",
            "\n",
            "Como saber quais aplicativos gastam mais bateria no celular\n",
            "LOG: como : 0\n",
            "LOG: saber : 0\n",
            "LOG: quais : 0\n",
            "LOG: aplicativos : 0\n",
            "LOG: gastam : 0\n",
            "LOG: mais : 0\n",
            "LOG: bateria : 0\n",
            "LOG: no : 0\n",
            "LOG: celular : 0\n",
            "O sentimento é neutro.\n",
            "___________________________________________________________________\n",
            "\n",
            "Mini robôs, pílulas vibratórias ajudam a tratar pessoas com constipação\n",
            "LOG: mini : 0\n",
            "LOG: robôs : 0\n",
            "LOG: pílulas : 0\n",
            "LOG: vibratórias : 0\n",
            "LOG: ajudam : 0\n",
            "LOG: a : 0\n",
            "LOG: tratar : 0\n",
            "LOG: pessoas : 0\n",
            "LOG: com : 0\n",
            "LOG: constipação : 0\n",
            "O sentimento é neutro.\n",
            "___________________________________________________________________\n",
            "\n",
            "WhatsApp testa transcrição de áudio e nova opção para enviar fotos\n",
            "LOG: whatsapp : 0\n",
            "LOG: testa : 0\n",
            "LOG: transcrição : 0\n",
            "LOG: de : 0\n",
            "LOG: áudio : 0\n",
            "LOG: e : 0\n",
            "LOG: nova : 0\n",
            "LOG: opção : 0\n",
            "LOG: para : 0\n",
            "LOG: enviar : 0\n",
            "LOG: fotos : 0\n",
            "O sentimento é neutro.\n",
            "___________________________________________________________________\n",
            "\n",
            "Hogwarts Legacy é presente para fãs, mas poderia ser melhor; veja review\n",
            "LOG: hogwarts : 0\n",
            "LOG: legacy : 0\n",
            "LOG: é : 0\n",
            "LOG: presente : 1\n",
            "LOG: para : 0\n",
            "LOG: fãs : 0\n",
            "LOG: mas : 0\n",
            "LOG: poderia : 0\n",
            "LOG: ser : 0\n",
            "LOG: melhor; : 0\n",
            "LOG: veja : 0\n",
            "LOG: review : 0\n",
            "O sentimento da frase é positivo.\n",
            "___________________________________________________________________\n",
            "\n",
            "Ná Ozzetti parte rumo ao antigo desvario da pauliceia ao cantar músicas de Zécarlos\n",
            "LOG: ná : 0\n",
            "LOG: ozzetti : 0\n",
            "LOG: parte : 0\n",
            "LOG: rumo : 0\n",
            "LOG: ao : 0\n",
            "LOG: antigo : 0\n",
            "LOG: desvario : -1\n",
            "LOG: da : 0\n",
            "LOG: pauliceia : 0\n",
            "LOG: ao : 0\n",
            "LOG: cantar : 0\n",
            "LOG: músicas : 0\n",
            "LOG: de : 0\n",
            "LOG: zécarlos : 0\n",
            "O sentimento é negativo.\n",
            "___________________________________________________________________\n",
            "\n",
            "MC Taya reflete sobre o cenário para mulheres negras: 'Ainda somos a base da pirâmide'\n",
            "LOG: mc : 0\n",
            "LOG: taya : 0\n",
            "LOG: reflete : 0\n",
            "LOG: sobre : 0\n",
            "LOG: o : 0\n",
            "LOG: cenário : 0\n",
            "LOG: para : 0\n",
            "LOG: mulheres : 0\n",
            "LOG: negras: : 0\n",
            "LOG: ainda : 0\n",
            "LOG: somos : 0\n",
            "LOG: a : 0\n",
            "LOG: base : 0\n",
            "LOG: da : 0\n",
            "LOG: pirâmide : 0\n",
            "O sentimento é neutro.\n",
            "___________________________________________________________________\n",
            "\n",
            "Gabi Martins garante que não vai virar meme no carnaval e se prepara para desfile\n",
            "LOG: gabi : 0\n",
            "LOG: martins : 0\n",
            "LOG: garante : 0\n",
            "LOG: que : 0\n",
            "LOG: não : 0\n",
            "LOG: vai : 0\n",
            "LOG: virar : 0\n",
            "LOG: meme : 0\n",
            "LOG: no : 0\n",
            "LOG: carnaval : 0\n",
            "LOG: e : 0\n",
            "LOG: se : 0\n",
            "LOG: prepara : 0\n",
            "LOG: para : 0\n",
            "LOG: desfile : 0\n",
            "O sentimento é neutro.\n",
            "___________________________________________________________________\n",
            "\n",
            "Guia traz dicas para ajudar a prevenir - ou a curar - os sintomas da ressaca\n",
            "LOG: guia : 0\n",
            "LOG: traz : 0\n",
            "LOG: dicas : 0\n",
            "LOG: para : 0\n",
            "LOG: ajudar : 0\n",
            "LOG: a : 0\n",
            "LOG: prevenir : 0\n",
            "LOG: - : 0\n",
            "LOG: ou : 0\n",
            "LOG: a : 0\n",
            "LOG: curar : 0\n",
            "LOG: - : 0\n",
            "LOG: os : 0\n",
            "LOG: sintomas : 0\n",
            "LOG: da : 0\n",
            "LOG: ressaca : 0\n",
            "O sentimento é neutro.\n",
            "___________________________________________________________________\n",
            "\n",
            "Hora do treino pode afetar a queima de gordura corporal, aponta estudo\n",
            "LOG: hora : 0\n",
            "LOG: do : 0\n",
            "LOG: treino : 0\n",
            "LOG: pode : 0\n",
            "LOG: afetar : 0\n",
            "LOG: a : 0\n",
            "LOG: queima : 0\n",
            "LOG: de : 0\n",
            "LOG: gordura : 0\n",
            "LOG: corporal : 0\n",
            "LOG: aponta : 0\n",
            "LOG: estudo : 0\n",
            "O sentimento é neutro.\n",
            "___________________________________________________________________\n",
            "\n",
            "Pés inchados e maltratados? Confira dicas para curtir o verão e o carnaval sem aperto\n",
            "LOG: pés : 0\n",
            "LOG: inchados : 0\n",
            "LOG: e : 0\n",
            "LOG: maltratados? : 0\n",
            "LOG: confira : 0\n",
            "LOG: dicas : 0\n",
            "LOG: para : 0\n",
            "LOG: curtir : 0\n",
            "LOG: o : 0\n",
            "LOG: verão : 0\n",
            "LOG: e : 0\n",
            "LOG: o : 0\n",
            "LOG: carnaval : 0\n",
            "LOG: sem : 0\n",
            "LOG: aperto : 0\n",
            "O sentimento é neutro.\n",
            "___________________________________________________________________\n",
            "\n",
            "Helô descobre que Stenio e Moretti estão sendo chantageados\n",
            "LOG: helô : 0\n",
            "LOG: descobre : 0\n",
            "LOG: que : 0\n",
            "LOG: stenio : 0\n",
            "LOG: e : 0\n",
            "LOG: moretti : 0\n",
            "LOG: estão : 0\n",
            "LOG: sendo : 0\n",
            "LOG: chantageados : 0\n",
            "O sentimento é neutro.\n",
            "___________________________________________________________________\n",
            "\n",
            "Jenifer mexe nas coisas de Carlão e confirma: 'Não é meu pai' \n",
            "LOG: jenifer : 0\n",
            "LOG: mexe : 0\n",
            "LOG: nas : 0\n",
            "LOG: coisas : 0\n",
            "LOG: de : 0\n",
            "LOG: carlão : 0\n",
            "LOG: e : 0\n",
            "LOG: confirma: : 0\n",
            "LOG: não : 0\n",
            "LOG: é : 0\n",
            "LOG: meu : 0\n",
            "LOG: pai : 0\n",
            "O sentimento é neutro.\n",
            "___________________________________________________________________\n",
            "\n",
            "Noé Dantas fica de olho no petróleo de Timbó\n",
            "LOG: noé : 0\n",
            "LOG: dantas : 0\n",
            "LOG: fica : 0\n",
            "LOG: de : 0\n",
            "LOG: olho : 0\n",
            "LOG: no : 0\n",
            "LOG: petróleo : 0\n",
            "LOG: de : 0\n",
            "LOG: timbó : 0\n",
            "O sentimento é neutro.\n",
            "___________________________________________________________________\n",
            "\n",
            "Ivete Sangalo: veja curiosidades que mostram que ela é a cara da folia\n",
            "LOG: ivete : 0\n",
            "LOG: sangalo: : 0\n",
            "LOG: veja : 0\n",
            "LOG: curiosidades : 0\n",
            "LOG: que : 0\n",
            "LOG: mostram : 0\n",
            "LOG: que : 0\n",
            "LOG: ela : 0\n",
            "LOG: é : 0\n",
            "LOG: a : 0\n",
            "LOG: cara : 0\n",
            "LOG: da : 0\n",
            "LOG: folia : 0\n",
            "O sentimento é neutro.\n",
            "___________________________________________________________________\n",
            "\n",
            "'Click BBB' exclusivo para assinantes: brothers refletem sobre as atitudes de Cristian no jogo\n",
            "LOG: click : 0\n",
            "LOG: bbb : 0\n",
            "LOG: exclusivo : 0\n",
            "LOG: para : 0\n",
            "LOG: assinantes: : 0\n",
            "LOG: brothers : 0\n",
            "LOG: refletem : 0\n",
            "LOG: sobre : 0\n",
            "LOG: as : 0\n",
            "LOG: atitudes : 0\n",
            "LOG: de : 0\n",
            "LOG: cristian : 0\n",
            "LOG: no : 0\n",
            "LOG: jogo : 0\n",
            "O sentimento é neutro.\n",
            "___________________________________________________________________\n",
            "\n",
            "Veja o programa desta terça na íntegra, com a Eliminação de Paula\n",
            "LOG: veja : 0\n",
            "LOG: o : 0\n",
            "LOG: programa : 0\n",
            "LOG: desta : 0\n",
            "LOG: terça : 0\n",
            "LOG: na : 0\n",
            "LOG: íntegra : 0\n",
            "LOG: com : 0\n",
            "LOG: a : 0\n",
            "LOG: eliminação : 0\n",
            "LOG: de : 0\n",
            "LOG: paula : 0\n",
            "O sentimento é neutro.\n",
            "___________________________________________________________________\n",
            "\n",
            "A partir de R$ 19,90; assine já\n",
            "LOG: a : 0\n",
            "LOG: partir : 0\n",
            "LOG: de : 0\n",
            "LOG: r$ : 0\n",
            "LOG: 1990; : 0\n",
            "LOG: assine : 0\n",
            "LOG: já : 0\n",
            "O sentimento é neutro.\n",
            "___________________________________________________________________\n",
            "\n",
            "Imposto de Renda: prazo de entrega vai de 15 de março a 31 de maio, informa Receita\n",
            "LOG: imposto : -1\n",
            "LOG: de : 0\n",
            "LOG: renda: : 0\n",
            "LOG: prazo : 0\n",
            "LOG: de : 0\n",
            "LOG: entrega : 0\n",
            "LOG: vai : 0\n",
            "LOG: de : 0\n",
            "LOG: 15 : 0\n",
            "LOG: de : 0\n",
            "LOG: março : 0\n",
            "LOG: a : 0\n",
            "LOG: 31 : 0\n",
            "LOG: de : 0\n",
            "LOG: maio : 0\n",
            "LOG: informa : 0\n",
            "LOG: receita : 0\n",
            "O sentimento é negativo.\n",
            "___________________________________________________________________\n",
            "\n",
            "Noiva faz brincadeira na hora de dizer 'sim', e juiz de paz cancela cerimônia; vídeo \n",
            "LOG: noiva : 0\n",
            "LOG: faz : 0\n",
            "LOG: brincadeira : 0\n",
            "LOG: na : 0\n",
            "LOG: hora : 0\n",
            "LOG: de : 0\n",
            "LOG: dizer : 0\n",
            "LOG: sim : 0\n",
            "LOG: e : 0\n",
            "LOG: juiz : 0\n",
            "LOG: de : 0\n",
            "LOG: paz : 0\n",
            "LOG: cancela : 0\n",
            "LOG: cerimônia; : 0\n",
            "LOG: vídeo : 0\n",
            "O sentimento é neutro.\n",
            "___________________________________________________________________\n",
            "\n",
            " Bolsonaro diz que deve voltar ao Brasil em março, mas pondera risco de prisão\n",
            "LOG: bolsonaro : 0\n",
            "LOG: diz : 0\n",
            "LOG: que : 0\n",
            "LOG: deve : 0\n",
            "LOG: voltar : 0\n",
            "LOG: ao : 0\n",
            "LOG: brasil : 0\n",
            "LOG: em : 0\n",
            "LOG: março : 0\n",
            "LOG: mas : 0\n",
            "LOG: pondera : 0\n",
            "LOG: risco : 0\n",
            "LOG: de : 0\n",
            "LOG: prisão : -1\n",
            "O sentimento é negativo.\n",
            "___________________________________________________________________\n",
            "\n",
            "Salário mínimo deve ir para R$ 1.320, e faixa de isenção do IR, para R$ 2.640\n",
            "LOG: salário : 0\n",
            "LOG: mínimo : 0\n",
            "LOG: deve : 0\n",
            "LOG: ir : 0\n",
            "LOG: para : 0\n",
            "LOG: r$ : 0\n",
            "LOG: 1320 : 0\n",
            "LOG: e : 0\n",
            "LOG: faixa : 0\n",
            "LOG: de : 0\n",
            "LOG: isenção : 0\n",
            "LOG: do : 0\n",
            "LOG: ir : 0\n",
            "LOG: para : 0\n",
            "LOG: r$ : 0\n",
            "LOG: 2640 : 0\n",
            "O sentimento é neutro.\n",
            "___________________________________________________________________\n",
            "\n",
            "Chef turco do bife de ouro distribui milhares de refeições a vítimas de terremoto\n",
            "LOG: chef : 0\n",
            "LOG: turco : 0\n",
            "LOG: do : 0\n",
            "LOG: bife : 0\n",
            "LOG: de : 0\n",
            "LOG: ouro : 0\n",
            "LOG: distribui : 0\n",
            "LOG: milhares : 0\n",
            "LOG: de : 0\n",
            "LOG: refeições : 0\n",
            "LOG: a : 0\n",
            "LOG: vítimas : 0\n",
            "LOG: de : 0\n",
            "LOG: terremoto : 0\n",
            "O sentimento é neutro.\n",
            "___________________________________________________________________\n",
            "\n",
            "Bayern bate PSG fora com lei do ex e abre vantagem nas oitavas da Champions\n",
            "LOG: bayern : 0\n",
            "LOG: bate : 0\n",
            "LOG: psg : 0\n",
            "LOG: fora : 0\n",
            "LOG: com : 0\n",
            "LOG: lei : 0\n",
            "LOG: do : 0\n",
            "LOG: ex : 0\n",
            "LOG: e : 0\n",
            "LOG: abre : 0\n",
            "LOG: vantagem : 1\n",
            "LOG: nas : 0\n",
            "LOG: oitavas : 0\n",
            "LOG: da : 0\n",
            "LOG: champions : 0\n",
            "O sentimento da frase é positivo.\n",
            "___________________________________________________________________\n",
            "\n",
            "Manipulação na Série B: cada jogador receberia R$ 150 mil; veja detalhes\n",
            "LOG: manipulação : -1\n",
            "LOG: na : 0\n",
            "LOG: série : 0\n",
            "LOG: b: : 0\n",
            "LOG: cada : 0\n",
            "LOG: jogador : 0\n",
            "LOG: receberia : 0\n",
            "LOG: r$ : 0\n",
            "LOG: 150 : 0\n",
            "LOG: mil; : 0\n",
            "LOG: veja : 0\n",
            "LOG: detalhes : 0\n",
            "O sentimento é negativo.\n",
            "___________________________________________________________________\n",
            "\n",
            "Fifa define número de vagas por continente para Mundial de Clubes com 32 times\n",
            "LOG: fifa : 0\n",
            "LOG: define : 0\n",
            "LOG: número : 0\n",
            "LOG: de : 0\n",
            "LOG: vagas : 0\n",
            "LOG: por : 0\n",
            "LOG: continente : 0\n",
            "LOG: para : 0\n",
            "LOG: mundial : 0\n",
            "LOG: de : 0\n",
            "LOG: clubes : 0\n",
            "LOG: com : 0\n",
            "LOG: 32 : 0\n",
            "LOG: times : 0\n",
            "O sentimento é neutro.\n",
            "___________________________________________________________________\n",
            "\n",
            "Tabela do Brasileirão 2023: CBF divulga jogos da Série A\n",
            "LOG: tabela : 0\n",
            "LOG: do : 0\n",
            "LOG: brasileirão : 0\n",
            "LOG: 2023: : 0\n",
            "LOG: cbf : 0\n",
            "LOG: divulga : 0\n",
            "LOG: jogos : 0\n",
            "LOG: da : 0\n",
            "LOG: série : 0\n",
            "LOG: a : 0\n",
            "O sentimento é neutro.\n",
            "___________________________________________________________________\n",
            "\n",
            "Após Mundial, Fla faz mudanças no meio para encarar Volta Redonda; veja escalação\n",
            "LOG: após : 0\n",
            "LOG: mundial : 0\n",
            "LOG: fla : 0\n",
            "LOG: faz : 0\n",
            "LOG: mudanças : 0\n",
            "LOG: no : 0\n",
            "LOG: meio : 0\n",
            "LOG: para : 0\n",
            "LOG: encarar : 0\n",
            "LOG: volta : 0\n",
            "LOG: redonda; : 0\n",
            "LOG: veja : 0\n",
            "LOG: escalação : 0\n",
            "O sentimento é neutro.\n",
            "___________________________________________________________________\n",
            "\n",
            "Key Alves e Gustavo protagonizam cenas quentes sem edredom durante a tarde\n",
            "LOG: key : 0\n",
            "LOG: alves : 0\n",
            "LOG: e : 0\n",
            "LOG: gustavo : 0\n",
            "LOG: protagonizam : 0\n",
            "LOG: cenas : 0\n",
            "LOG: quentes : 0\n",
            "LOG: sem : 0\n",
            "LOG: edredom : 0\n",
            "LOG: durante : 0\n",
            "LOG: a : 0\n",
            "LOG: tarde : 0\n",
            "O sentimento é neutro.\n",
            "___________________________________________________________________\n",
            "\n",
            "Após lipopapada, Jojo Todynho retira curativos e mostra resultado: 'Amei'\n",
            "LOG: após : 0\n",
            "LOG: lipopapada : 0\n",
            "LOG: jojo : 0\n",
            "LOG: todynho : 0\n",
            "LOG: retira : 0\n",
            "LOG: curativos : 0\n",
            "LOG: e : 0\n",
            "LOG: mostra : 0\n",
            "LOG: resultado: : 0\n",
            "LOG: amei : 0\n",
            "O sentimento é neutro.\n",
            "___________________________________________________________________\n",
            "\n",
            "Key Alves revela que Neymar sugeriu ficar com ela e com a irmã gêmea\n",
            "LOG: key : 0\n",
            "LOG: alves : 0\n",
            "LOG: revela : 0\n",
            "LOG: que : 0\n",
            "LOG: neymar : 0\n",
            "LOG: sugeriu : 0\n",
            "LOG: ficar : 0\n",
            "LOG: com : 0\n",
            "LOG: ela : 0\n",
            "LOG: e : 0\n",
            "LOG: com : 0\n",
            "LOG: a : 0\n",
            "LOG: irmã : 0\n",
            "LOG: gêmea : 0\n",
            "O sentimento é neutro.\n",
            "___________________________________________________________________\n",
            "\n",
            "Após treta, Cristian deixa posto de brother com menor número de seguidores\n",
            "LOG: após : 0\n",
            "LOG: treta : -1\n",
            "LOG: cristian : 0\n",
            "LOG: deixa : 0\n",
            "LOG: posto : 0\n",
            "LOG: de : 0\n",
            "LOG: brother : 0\n",
            "LOG: com : 0\n",
            "LOG: menor : 0\n",
            "LOG: número : 0\n",
            "LOG: de : 0\n",
            "LOG: seguidores : 0\n",
            "O sentimento é negativo.\n",
            "___________________________________________________________________\n",
            "\n",
            "Após banho de mar, Jade Picon dá puxadinha estratégica em biquíni\n",
            "LOG: após : 0\n",
            "LOG: banho : 0\n",
            "LOG: de : 0\n",
            "LOG: mar : 0\n",
            "LOG: jade : 0\n",
            "LOG: picon : 0\n",
            "LOG: dá : 0\n",
            "LOG: puxadinha : 0\n",
            "LOG: estratégica : 0\n",
            "LOG: em : 0\n",
            "LOG: biquíni : 0\n",
            "O sentimento é neutro.\n",
            "___________________________________________________________________\n",
            "\n"
          ]
        }
      ]
    },
    {
      "cell_type": "code",
      "source": [
        "import spacy\n",
        "!python -m spacy download pt"
      ],
      "metadata": {
        "id": "nldnO7-sP4DY"
      },
      "execution_count": null,
      "outputs": []
    },
    {
      "cell_type": "code",
      "source": [
        "nlp = spacy.load('pt_core_news_sm') ##cria o nlp em português"
      ],
      "metadata": {
        "id": "tZ_XkO1niqb3"
      },
      "execution_count": null,
      "outputs": []
    },
    {
      "cell_type": "code",
      "source": [
        "frase = \"Fifa define número de vagas por continente para Mundial de Clubes com 32 times\" ##apenas para testar nas próximas etapas"
      ],
      "metadata": {
        "id": "-F4FrWDRiEUs"
      },
      "execution_count": null,
      "outputs": []
    },
    {
      "cell_type": "code",
      "source": [
        "output = nlp(frase)"
      ],
      "metadata": {
        "id": "6nKAgueqifzc"
      },
      "execution_count": null,
      "outputs": []
    },
    {
      "cell_type": "code",
      "source": [
        "output ##criou um objeto"
      ],
      "metadata": {
        "colab": {
          "base_uri": "https://localhost:8080/"
        },
        "id": "Gv8itJfOiv7r",
        "outputId": "687e9854-abee-4705-f5f1-688747386987"
      },
      "execution_count": null,
      "outputs": [
        {
          "output_type": "execute_result",
          "data": {
            "text/plain": [
              "Fifa define número de vagas por continente para Mundial de Clubes com 32 times"
            ]
          },
          "metadata": {},
          "execution_count": 59
        }
      ]
    },
    {
      "cell_type": "code",
      "source": [
        "#for a in output: ###como é um objeto não é preciso mais fazer o split, a biblioteca tem essa função, entendendo que cada palavra é um token.\n",
        " # print(a)\n",
        " # print(a.pos_) diz se é verbo, pronome......\n",
        " # print('\\n')\n",
        "\n",
        "for a in output:\n",
        "   print(f' {a} - {a.pos_}')"
      ],
      "metadata": {
        "id": "u_mHFnRSjAjg"
      },
      "execution_count": null,
      "outputs": []
    },
    {
      "cell_type": "code",
      "source": [
        "from spacy import displacy ##da biblioteca spacy import displacy"
      ],
      "metadata": {
        "id": "r_F71zlsk1H4"
      },
      "execution_count": null,
      "outputs": []
    },
    {
      "cell_type": "code",
      "source": [
        "displacy.render(output, style='ent', jupyter=True) ## do output aplique o displacy.render. essa função identifica os personagens e os definem"
      ],
      "metadata": {
        "colab": {
          "base_uri": "https://localhost:8080/",
          "height": 52
        },
        "id": "2XsJHcRvk-R6",
        "outputId": "3f96367b-8df0-4f62-fb4a-fc59953c91d2"
      },
      "execution_count": null,
      "outputs": [
        {
          "output_type": "display_data",
          "data": {
            "text/plain": [
              "<IPython.core.display.HTML object>"
            ],
            "text/html": [
              "<span class=\"tex2jax_ignore\"><div class=\"entities\" style=\"line-height: 2.5; direction: ltr\">\n",
              "<mark class=\"entity\" style=\"background: #7aecec; padding: 0.45em 0.6em; margin: 0 0.25em; line-height: 1; border-radius: 0.35em;\">\n",
              "    Fifa\n",
              "    <span style=\"font-size: 0.8em; font-weight: bold; line-height: 1; border-radius: 0.35em; vertical-align: middle; margin-left: 0.5rem\">ORG</span>\n",
              "</mark>\n",
              " define número de vagas por continente para \n",
              "<mark class=\"entity\" style=\"background: #ddd; padding: 0.45em 0.6em; margin: 0 0.25em; line-height: 1; border-radius: 0.35em;\">\n",
              "    Mundial de Clubes\n",
              "    <span style=\"font-size: 0.8em; font-weight: bold; line-height: 1; border-radius: 0.35em; vertical-align: middle; margin-left: 0.5rem\">MISC</span>\n",
              "</mark>\n",
              " com 32 times</div></span>"
            ]
          },
          "metadata": {}
        }
      ]
    },
    {
      "cell_type": "code",
      "source": [
        "frase1 = 'Anibal Loureiro Tanganelli foi ao shopping Vic Center para ver o filme da Marvel'"
      ],
      "metadata": {
        "id": "Pm2D1wR2lMbs"
      },
      "execution_count": null,
      "outputs": []
    },
    {
      "cell_type": "code",
      "source": [
        "output1 = nlp(frase1)"
      ],
      "metadata": {
        "id": "6VRPYTkfl_u4"
      },
      "execution_count": null,
      "outputs": []
    },
    {
      "cell_type": "code",
      "source": [
        "print(output1)"
      ],
      "metadata": {
        "colab": {
          "base_uri": "https://localhost:8080/"
        },
        "id": "2iLjc9HLmM9x",
        "outputId": "bfa11a3d-d4d4-435d-a10d-e69574bc18a0"
      },
      "execution_count": null,
      "outputs": [
        {
          "output_type": "stream",
          "name": "stdout",
          "text": [
            "Anibal Loureiro Tanganelli foi ao shopping Vic Center para ver o filme da Marvel\n"
          ]
        }
      ]
    },
    {
      "cell_type": "code",
      "source": [
        "displacy.render(output1, style='ent', jupyter=True)"
      ],
      "metadata": {
        "colab": {
          "base_uri": "https://localhost:8080/",
          "height": 52
        },
        "id": "HpgdMh8Flbhr",
        "outputId": "4946eb47-8ed1-47bd-fcdf-c5450913a2c9"
      },
      "execution_count": null,
      "outputs": [
        {
          "output_type": "display_data",
          "data": {
            "text/plain": [
              "<IPython.core.display.HTML object>"
            ],
            "text/html": [
              "<span class=\"tex2jax_ignore\"><div class=\"entities\" style=\"line-height: 2.5; direction: ltr\">\n",
              "<mark class=\"entity\" style=\"background: #ddd; padding: 0.45em 0.6em; margin: 0 0.25em; line-height: 1; border-radius: 0.35em;\">\n",
              "    Anibal Loureiro Tanganelli\n",
              "    <span style=\"font-size: 0.8em; font-weight: bold; line-height: 1; border-radius: 0.35em; vertical-align: middle; margin-left: 0.5rem\">PER</span>\n",
              "</mark>\n",
              " foi ao shopping \n",
              "<mark class=\"entity\" style=\"background: #ff9561; padding: 0.45em 0.6em; margin: 0 0.25em; line-height: 1; border-radius: 0.35em;\">\n",
              "    Vic Center\n",
              "    <span style=\"font-size: 0.8em; font-weight: bold; line-height: 1; border-radius: 0.35em; vertical-align: middle; margin-left: 0.5rem\">LOC</span>\n",
              "</mark>\n",
              " para ver o filme da Marvel</div></span>"
            ]
          },
          "metadata": {}
        }
      ]
    },
    {
      "cell_type": "code",
      "source": [
        "for manchete in lista_manchete_globo:\n",
        "  output = nlp(manchete)\n",
        "  displacy.render(output, style='ent', jupyter=True)"
      ],
      "metadata": {
        "id": "Pol3il9xi0P8"
      },
      "execution_count": null,
      "outputs": []
    }
  ]
}